{
  "nbformat": 4,
  "nbformat_minor": 0,
  "metadata": {
    "colab": {
      "provenance": []
    },
    "kernelspec": {
      "name": "python3",
      "display_name": "Python 3"
    },
    "language_info": {
      "name": "python"
    }
  },
  "cells": [
    {
      "cell_type": "code",
      "source": [],
      "metadata": {
        "id": "NVL7foYrIyan"
      },
      "execution_count": null,
      "outputs": []
    },
    {
      "cell_type": "code",
      "execution_count": null,
      "metadata": {
        "id": "tBHMS0xqHVOU"
      },
      "outputs": [],
      "source": [
        "from transformers import TFBertModel"
      ]
    },
    {
      "cell_type": "code",
      "source": [
        "from transformers import BertTokenizer"
      ],
      "metadata": {
        "id": "Hhyl-Q5aHbAA"
      },
      "execution_count": null,
      "outputs": []
    },
    {
      "cell_type": "code",
      "source": [
        "model_name = \"bert-large-uncased\""
      ],
      "metadata": {
        "id": "2H5NkEolHbHd"
      },
      "execution_count": null,
      "outputs": []
    },
    {
      "cell_type": "code",
      "source": [
        "model = TFBertModel.from_pretrained(model_name)"
      ],
      "metadata": {
        "colab": {
          "base_uri": "https://localhost:8080/"
        },
        "id": "0oPFHayTHbKl",
        "outputId": "1aa996e2-e3bb-4ef0-ad05-ce64336ef4b5"
      },
      "execution_count": null,
      "outputs": [
        {
          "output_type": "stream",
          "name": "stderr",
          "text": [
            "Some weights of the PyTorch model were not used when initializing the TF 2.0 model TFBertModel: ['cls.predictions.transform.dense.weight', 'cls.seq_relationship.bias', 'cls.seq_relationship.weight', 'cls.predictions.transform.LayerNorm.bias', 'cls.predictions.bias', 'cls.predictions.transform.dense.bias', 'cls.predictions.transform.LayerNorm.weight']\n",
            "- This IS expected if you are initializing TFBertModel from a PyTorch model trained on another task or with another architecture (e.g. initializing a TFBertForSequenceClassification model from a BertForPreTraining model).\n",
            "- This IS NOT expected if you are initializing TFBertModel from a PyTorch model that you expect to be exactly identical (e.g. initializing a TFBertForSequenceClassification model from a BertForSequenceClassification model).\n",
            "All the weights of TFBertModel were initialized from the PyTorch model.\n",
            "If your task is similar to the task the model of the checkpoint was trained on, you can already use TFBertModel for predictions without further training.\n"
          ]
        }
      ]
    },
    {
      "cell_type": "code",
      "source": [
        "tokenizer = BertTokenizer.from_pretrained(model_name)"
      ],
      "metadata": {
        "id": "LA6joNmxHjCm"
      },
      "execution_count": null,
      "outputs": []
    },
    {
      "cell_type": "code",
      "source": [
        "sentence1 = \"I love programming\"\n",
        "sentence2 = \"I enjoy coding\""
      ],
      "metadata": {
        "id": "R_eSAWAJHjFV"
      },
      "execution_count": null,
      "outputs": []
    },
    {
      "cell_type": "code",
      "source": [
        "tokens1 = tokenizer(sentence1, return_tensors=\"tf\")\n",
        "tokens2 = tokenizer(sentence2, return_tensors=\"tf\")\n",
        "tokens1,tokens2"
      ],
      "metadata": {
        "colab": {
          "base_uri": "https://localhost:8080/"
        },
        "id": "rTQu82KTHjIZ",
        "outputId": "cb0bc796-affd-4a78-fb8b-0db1d0ea3e25"
      },
      "execution_count": null,
      "outputs": [
        {
          "output_type": "execute_result",
          "data": {
            "text/plain": [
              "({'input_ids': <tf.Tensor: shape=(1, 5), dtype=int32, numpy=array([[ 101, 1045, 2293, 4730,  102]], dtype=int32)>, 'token_type_ids': <tf.Tensor: shape=(1, 5), dtype=int32, numpy=array([[0, 0, 0, 0, 0]], dtype=int32)>, 'attention_mask': <tf.Tensor: shape=(1, 5), dtype=int32, numpy=array([[1, 1, 1, 1, 1]], dtype=int32)>},\n",
              " {'input_ids': <tf.Tensor: shape=(1, 5), dtype=int32, numpy=array([[  101,  1045,  5959, 16861,   102]], dtype=int32)>, 'token_type_ids': <tf.Tensor: shape=(1, 5), dtype=int32, numpy=array([[0, 0, 0, 0, 0]], dtype=int32)>, 'attention_mask': <tf.Tensor: shape=(1, 5), dtype=int32, numpy=array([[1, 1, 1, 1, 1]], dtype=int32)>})"
            ]
          },
          "metadata": {},
          "execution_count": 20
        }
      ]
    },
    {
      "cell_type": "code",
      "source": [
        "embeddings1 = model(tokens1)[\"last_hidden_state\"]\n",
        "embeddings2 = model(tokens2)[\"last_hidden_state\"]\n",
        "embeddings1,embeddings2"
      ],
      "metadata": {
        "colab": {
          "base_uri": "https://localhost:8080/"
        },
        "id": "BP5OfWbDHtR0",
        "outputId": "1da09928-2827-4291-e215-27dee83f3928"
      },
      "execution_count": null,
      "outputs": [
        {
          "output_type": "execute_result",
          "data": {
            "text/plain": [
              "(<tf.Tensor: shape=(1, 5, 1024), dtype=float32, numpy=\n",
              " array([[[-0.08526117, -0.5764769 , -0.633375  , ..., -0.86952853,\n",
              "          -0.61489177,  0.13499229],\n",
              "         [-0.0675717 , -0.5738155 , -0.22566436, ..., -0.24722598,\n",
              "          -0.14509764, -0.2964073 ],\n",
              "         [-0.34677207, -0.23050056, -0.06590487, ..., -0.3864914 ,\n",
              "           0.08854117,  0.06498113],\n",
              "         [ 0.10635039, -0.15144344, -0.1836153 , ...,  0.10190339,\n",
              "          -0.7688031 ,  0.15373257],\n",
              "         [-0.7419942 , -0.22298822, -0.10586639, ..., -0.7624336 ,\n",
              "          -0.5670841 , -0.16787432]]], dtype=float32)>,\n",
              " <tf.Tensor: shape=(1, 5, 1024), dtype=float32, numpy=\n",
              " array([[[-0.3766582 , -0.9046708 , -0.50428843, ..., -0.9633748 ,\n",
              "          -0.5423166 ,  0.11364953],\n",
              "         [-0.0535448 , -0.59047514, -0.40269876, ..., -0.15256438,\n",
              "          -0.15487303, -0.29055303],\n",
              "         [-0.21465763, -0.15130925, -0.21339586, ..., -0.33374354,\n",
              "           0.14531985, -0.3278002 ],\n",
              "         [ 0.10372909,  0.06824359, -0.32612062, ...,  0.0596103 ,\n",
              "          -0.7203343 , -0.01623466],\n",
              "         [-0.98498297,  0.22309211,  0.08610315, ..., -0.631426  ,\n",
              "          -0.7671876 , -0.4168275 ]]], dtype=float32)>)"
            ]
          },
          "metadata": {},
          "execution_count": 21
        }
      ]
    },
    {
      "cell_type": "code",
      "source": [
        "import numpy as np\n",
        "mean_embeddings1 = np.mean(embeddings1, axis=1)\n",
        "mean_embeddings2 = np.mean(embeddings2, axis=1)\n",
        "mean_embeddings1,mean_embeddings2"
      ],
      "metadata": {
        "colab": {
          "base_uri": "https://localhost:8080/"
        },
        "id": "sR3C7AfGHxjV",
        "outputId": "f98e66aa-26aa-4b1c-c71b-32340c0343b7"
      },
      "execution_count": null,
      "outputs": [
        {
          "output_type": "execute_result",
          "data": {
            "text/plain": [
              "(array([[-0.22704975, -0.35104495, -0.24288519, ..., -0.43275523,\n",
              "         -0.40146708, -0.02211513]], dtype=float32),\n",
              " array([[-0.3052229 , -0.2710239 , -0.2720801 , ..., -0.40429968,\n",
              "         -0.4078783 , -0.18755317]], dtype=float32))"
            ]
          },
          "metadata": {},
          "execution_count": 22
        }
      ]
    },
    {
      "cell_type": "code",
      "source": [
        "from sklearn.metrics.pairwise import cosine_similarity\n",
        "similarity = cosine_similarity(mean_embeddings1, mean_embeddings2)\n",
        "print(\"Cosine Similarity:\", similarity)"
      ],
      "metadata": {
        "colab": {
          "base_uri": "https://localhost:8080/"
        },
        "id": "UzXEl9kjH1q0",
        "outputId": "13f6ca34-60de-4f1f-ace4-86e22fe25eb1"
      },
      "execution_count": null,
      "outputs": [
        {
          "output_type": "stream",
          "name": "stdout",
          "text": [
            "Cosine Similarity: [[0.9234959]]\n"
          ]
        }
      ]
    },
    {
      "cell_type": "code",
      "source": [
        "sentence1 = \"I love programming\"\n",
        "sentence2 = \"The movie is too bad\"\n",
        "\n",
        "\n",
        "tokens1 = tokenizer(sentence1, return_tensors=\"tf\")\n",
        "tokens2 = tokenizer(sentence2, return_tensors=\"tf\")\n",
        "# إيجاد تضمين مفردات كل جملة\n",
        "embeddings1 = model(tokens1)[\"last_hidden_state\"]\n",
        "embeddings2 = model(tokens2)[\"last_hidden_state\"]\n",
        "\n",
        "\n",
        "import numpy as np\n",
        "mean_embeddings1 = np.mean(embeddings1, axis=1)\n",
        "mean_embeddings2 = np.mean(embeddings2, axis=1)\n",
        "\n",
        "\n",
        "from sklearn.metrics.pairwise import cosine_similarity\n",
        "\n",
        "similarity = cosine_similarity(mean_embeddings1, mean_embeddings2)\n",
        "\n",
        "print(\"Cosine Similarity:\", similarity)"
      ],
      "metadata": {
        "colab": {
          "base_uri": "https://localhost:8080/"
        },
        "id": "2taQFTHpH6bf",
        "outputId": "85ec77fc-9098-4d88-9cbe-41c9baa20623"
      },
      "execution_count": null,
      "outputs": [
        {
          "output_type": "stream",
          "name": "stdout",
          "text": [
            "Cosine Similarity: [[0.37942252]]\n"
          ]
        }
      ]
    }
  ]
}