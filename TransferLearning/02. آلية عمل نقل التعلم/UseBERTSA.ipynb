{
  "nbformat": 4,
  "nbformat_minor": 0,
  "metadata": {
    "colab": {
      "provenance": []
    },
    "kernelspec": {
      "name": "python3",
      "display_name": "Python 3"
    },
    "language_info": {
      "name": "python"
    }
  },
  "cells": [
    {
      "cell_type": "code",
      "execution_count": null,
      "metadata": {
        "id": "7dFtMdbtMMzf"
      },
      "outputs": [],
      "source": [
        "model_name = 'nlptown/bert-base-multilingual-uncased-sentiment'"
      ]
    },
    {
      "cell_type": "code",
      "source": [
        "\"https://huggingface.co/nlptown/bert-base-multilingual-uncased-sentiment\""
      ],
      "metadata": {
        "id": "M1vC3COkMoHf"
      },
      "execution_count": null,
      "outputs": []
    },
    {
      "cell_type": "code",
      "source": [
        "'''\n",
        "0\tVery Negative\tسلبي جداً\n",
        "1\tNegative\tسلبي\n",
        "2\tNeutral\tحيادي\n",
        "3\tPositive\tموجب\n",
        "4\tVery Positive\tموجب جداً\n",
        "'''"
      ],
      "metadata": {
        "id": "FQjJdvkJMxM5"
      },
      "execution_count": null,
      "outputs": []
    },
    {
      "cell_type": "code",
      "source": [
        "from transformers import BertTokenizer, TFBertForSequenceClassification\n",
        "tokenizer = BertTokenizer.from_pretrained(model_name)\n",
        "model = TFBertForSequenceClassification.from_pretrained(model_name)"
      ],
      "metadata": {
        "colab": {
          "base_uri": "https://localhost:8080/"
        },
        "id": "Pw5lYU3BM-hN",
        "outputId": "809207a1-3d43-44b4-8ddb-625fec83a9f1"
      },
      "execution_count": null,
      "outputs": [
        {
          "output_type": "stream",
          "name": "stderr",
          "text": [
            "Some layers from the model checkpoint at nlptown/bert-base-multilingual-uncased-sentiment were not used when initializing TFBertForSequenceClassification: ['dropout_37']\n",
            "- This IS expected if you are initializing TFBertForSequenceClassification from the checkpoint of a model trained on another task or with another architecture (e.g. initializing a BertForSequenceClassification model from a BertForPreTraining model).\n",
            "- This IS NOT expected if you are initializing TFBertForSequenceClassification from the checkpoint of a model that you expect to be exactly identical (initializing a BertForSequenceClassification model from a BertForSequenceClassification model).\n",
            "All the layers of TFBertForSequenceClassification were initialized from the model checkpoint at nlptown/bert-base-multilingual-uncased-sentiment.\n",
            "If your task is similar to the task the model of the checkpoint was trained on, you can already use TFBertForSequenceClassification for predictions without further training.\n"
          ]
        }
      ]
    },
    {
      "cell_type": "code",
      "source": [
        "text = \"I like my job\""
      ],
      "metadata": {
        "id": "JhRBbPsBNWGT"
      },
      "execution_count": null,
      "outputs": []
    },
    {
      "cell_type": "code",
      "source": [
        "inputs = tokenizer(text, return_tensors='tf')\n",
        "input_ids = inputs['input_ids']"
      ],
      "metadata": {
        "id": "ocaK-IHANW9r"
      },
      "execution_count": null,
      "outputs": []
    },
    {
      "cell_type": "code",
      "source": [
        "predictions = model.predict([input_ids])\n",
        "logits = predictions.logits"
      ],
      "metadata": {
        "colab": {
          "base_uri": "https://localhost:8080/"
        },
        "id": "WPgH1T9PNeZl",
        "outputId": "50f33e30-4173-440b-be53-fc4761099831"
      },
      "execution_count": null,
      "outputs": [
        {
          "output_type": "stream",
          "name": "stdout",
          "text": [
            "1/1 [==============================] - 13s 13s/step\n"
          ]
        }
      ]
    },
    {
      "cell_type": "code",
      "source": [
        "import numpy as np\n",
        "predicted_class = np.argmax(logits)\n",
        "predicted_class"
      ],
      "metadata": {
        "colab": {
          "base_uri": "https://localhost:8080/"
        },
        "id": "czbImM88Njs7",
        "outputId": "d42cf421-159e-486c-d75a-be55a5ef88da"
      },
      "execution_count": null,
      "outputs": [
        {
          "output_type": "execute_result",
          "data": {
            "text/plain": [
              "3"
            ]
          },
          "metadata": {},
          "execution_count": 18
        }
      ]
    },
    {
      "cell_type": "code",
      "source": [
        "sentiment_mapping = {\n",
        "    0: 'very negative',\n",
        "    1: 'negative',\n",
        "    2: 'neutral',\n",
        "    3: 'positive',\n",
        "    4: 'very positive'\n",
        "}\n",
        "\n",
        "predicted_sentiment = sentiment_mapping[predicted_class]\n",
        "print(\"The text is predicted to have a sentiment: {}\".format(predicted_sentiment))"
      ],
      "metadata": {
        "colab": {
          "base_uri": "https://localhost:8080/"
        },
        "id": "2lwXZgSMNxTI",
        "outputId": "c833cea7-64e3-434a-9611-5c6992752a33"
      },
      "execution_count": null,
      "outputs": [
        {
          "output_type": "stream",
          "name": "stdout",
          "text": [
            "The text is predicted to have a sentiment: positive\n"
          ]
        }
      ]
    },
    {
      "cell_type": "code",
      "source": [
        "text = \"I hate my job\"\n",
        "inputs = tokenizer(text, return_tensors='tf')\n",
        "input_ids = inputs['input_ids']\n",
        "predictions = model.predict([input_ids])\n",
        "logits = predictions.logits\n",
        "predicted_class = np.argmax(logits)\n",
        "predicted_sentiment = sentiment_mapping[predicted_class]\n",
        "print(\"The text is predicted to have a sentiment: {}\".format(predicted_sentiment))"
      ],
      "metadata": {
        "colab": {
          "base_uri": "https://localhost:8080/"
        },
        "id": "2s118_5HN2W_",
        "outputId": "2f4576e3-75ab-4611-bbf3-b65047362db7"
      },
      "execution_count": null,
      "outputs": [
        {
          "output_type": "stream",
          "name": "stdout",
          "text": [
            "1/1 [==============================] - 0s 154ms/step\n",
            "The text is predicted to have a sentiment: very negative\n"
          ]
        }
      ]
    }
  ]
}