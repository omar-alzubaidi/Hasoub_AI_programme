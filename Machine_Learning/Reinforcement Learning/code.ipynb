{
 "cells": [
  {
   "cell_type": "code",
   "execution_count": 1,
   "metadata": {},
   "outputs": [],
   "source": [
    "#pip install gym"
   ]
  },
  {
   "cell_type": "code",
   "execution_count": 2,
   "metadata": {},
   "outputs": [
    {
     "name": "stdout",
     "output_type": "stream",
     "text": [
      "+---------+\n",
      "|R: | : :G|\n",
      "| : | : : |\n",
      "| : : : : |\n",
      "|\u001b[43m \u001b[0m| : | : |\n",
      "|\u001b[35mY\u001b[0m| : |\u001b[34;1mB\u001b[0m: |\n",
      "+---------+\n",
      "\n",
      "\n"
     ]
    }
   ],
   "source": [
    "import gym\n",
    "\n",
    "env = gym.make(\"Taxi-v3\",render_mode=\"ansi\").env\n",
    "\n",
    "env.reset(seed=0)\n",
    "\n",
    "env = env.unwrapped\n",
    "\n",
    "arr=env.render()\n",
    "print(arr)"
   ]
  },
  {
   "cell_type": "code",
   "execution_count": 3,
   "metadata": {},
   "outputs": [
    {
     "name": "stdout",
     "output_type": "stream",
     "text": [
      "Action Space  Discrete(6)\n",
      "State Space  Discrete(500)\n"
     ]
    }
   ],
   "source": [
    "print(\"Action Space \", env.action_space)\n",
    "print(\"State Space \", env.observation_space)"
   ]
  },
  {
   "cell_type": "code",
   "execution_count": 4,
   "metadata": {},
   "outputs": [
    {
     "name": "stdout",
     "output_type": "stream",
     "text": [
      "State: 328\n",
      "+---------+\n",
      "|\u001b[35mR\u001b[0m: | : :G|\n",
      "| : | : : |\n",
      "| : : : : |\n",
      "| |\u001b[43m \u001b[0m: | : |\n",
      "|\u001b[34;1mY\u001b[0m| : |B: |\n",
      "+---------+\n",
      "\n",
      "\n"
     ]
    }
   ],
   "source": [
    "# (taxi row, taxi column, passenger index, destination index)\n",
    "state = env.encode(3, 1, 2, 0) \n",
    "print(\"State:\", state)\n",
    "\n",
    "env.s = state\n",
    "\n",
    "arr=env.render()\n",
    "print(arr)"
   ]
  },
  {
   "cell_type": "code",
   "execution_count": 5,
   "metadata": {},
   "outputs": [
    {
     "data": {
      "text/plain": [
       "{0: [(1.0, 428, -1, False)],\n",
       " 1: [(1.0, 228, -1, False)],\n",
       " 2: [(1.0, 348, -1, False)],\n",
       " 3: [(1.0, 328, -1, False)],\n",
       " 4: [(1.0, 328, -10, False)],\n",
       " 5: [(1.0, 328, -10, False)]}"
      ]
     },
     "execution_count": 5,
     "metadata": {},
     "output_type": "execute_result"
    }
   ],
   "source": [
    "env.P[env.s]"
   ]
  },
  {
   "cell_type": "code",
   "execution_count": 6,
   "metadata": {},
   "outputs": [
    {
     "name": "stdout",
     "output_type": "stream",
     "text": [
      "Timesteps taken: 871\n",
      "Penalties incurred: 264\n"
     ]
    }
   ],
   "source": [
    "# تحديد الحالة الابتدائية\n",
    "state = env.encode(3, 1, 2, 0) \n",
    "# إسناد الحالة للبيئة\n",
    "env.s = state\n",
    "\n",
    "# عداد الحركات\n",
    "epochs = 0\n",
    "# عداد مرات  الجزاء\n",
    "# لركوب أو إنزال خاطئ\n",
    "penalties= 0\n",
    "\n",
    "# حفظ الحالات للتحريك لاحقا\n",
    "frames = [] # for animation\n",
    "# متغير للدلالة على الوصول للهدف\n",
    "done = False\n",
    "# كرر طالما لم نصل للهدف\n",
    "while not done:\n",
    "    # اختيار الفعل بشكل عشوائي\n",
    "    action = env.action_space.sample()\n",
    "    # الانتقال للحالة التالية\n",
    "    state, reward, done, _,_ = env.step(action)\n",
    "    # جمع عدد مرات الجزاء\n",
    "    if reward == -10:\n",
    "        penalties += 1\n",
    "          \n",
    "    # إضافة إطار للعرض لاحقاً\n",
    "    frames.append({\n",
    "        'state': state,\n",
    "        'action': action,\n",
    "        'reward': reward\n",
    "        }\n",
    "    )\n",
    "\n",
    "    epochs += 1\n",
    "      \n",
    "print(\"Timesteps taken: {}\".format(epochs))\n",
    "print(\"Penalties incurred: {}\".format(penalties))"
   ]
  },
  {
   "cell_type": "code",
   "execution_count": 7,
   "metadata": {},
   "outputs": [
    {
     "name": "stdout",
     "output_type": "stream",
     "text": [
      "+---------+\n",
      "|\u001b[35m\u001b[34;1m\u001b[43mR\u001b[0m\u001b[0m\u001b[0m: | : :G|\n",
      "| : | : : |\n",
      "| : : : : |\n",
      "| | : | : |\n",
      "|Y| : |B: |\n",
      "+---------+\n",
      "  (Dropoff)\n",
      "\n",
      "Timestep: 871\n",
      "State: 0\n",
      "Action: Drop-of\n",
      "Reward: 20\n"
     ]
    }
   ],
   "source": [
    "from IPython.display import clear_output\n",
    "# مكتبة التوقيت\n",
    "from time import sleep\n",
    "# دالة لمحاكة التجوال\n",
    "def print_frames(frames):\n",
    "    actions=['North','South','East','West','Pick-up','Drop-of']\n",
    "    for i, frame in enumerate(frames):\n",
    "        # الحالة التالية\n",
    "        env.s = frame['state']\n",
    "        # مسح الإظهار\n",
    "        clear_output(wait=True)\n",
    "       # الإظهار\n",
    "        arr=env.render()\n",
    "        print(arr)\n",
    "        # اسم الفعل\n",
    "        # طباعة المعلومات\n",
    "        print(f\"Timestep: {i + 1}\")\n",
    "        print(f\"State: {frame['state']}\")\n",
    "        print(f\"Action: {actions[frame['action']]}\")\n",
    "        print(f\"Reward: {frame['reward']}\")\n",
    "        sleep(0.1) # sleep 0.1 second\n",
    "# استدعاء الدالة        \n",
    "print_frames(frames)"
   ]
  },
  {
   "cell_type": "code",
   "execution_count": 8,
   "metadata": {},
   "outputs": [
    {
     "name": "stdout",
     "output_type": "stream",
     "text": [
      "Results after 100 episodes:\n",
      "Average timesteps per episode: 2635.75\n",
      "Average penalties per episode: 855.8\n"
     ]
    }
   ],
   "source": [
    "# تقييم الأداء دون التعلم\n",
    "\n",
    "# عدد الحلقات\n",
    "episodes = 100\n",
    "# عداد الحركات\n",
    "total_epochs = 0\n",
    "# عداد العقوبات\n",
    "total_penalties = 0\n",
    "\n",
    "for _ in range(episodes):\n",
    "    # حالة ابتدائية عشوائية\n",
    "    state = env.reset()\n",
    "    # عداد أخطاء الحلقة\n",
    "    penalties=0\n",
    "    # عداد أخطاء الحلقة\n",
    "    reward = 0\n",
    "    # عداد الحركات\n",
    "    epochs=0\n",
    "    done = False\n",
    "    # الدوران حتى الوصول إلى الهدف\n",
    "    while not done:\n",
    "        \n",
    "        # اختيار الفعل بشكل عشوائي\n",
    "        action = env.action_space.sample()\n",
    "        # الانتقال\n",
    "        state, reward, done, _,_ = env.step(action)\n",
    "        # عداد الأخطاء\n",
    "        if reward == -10:\n",
    "            penalties += 1\n",
    "        # عداد الحركات\n",
    "        epochs += 1\n",
    "    # العدد الكلي للأخطاء\n",
    "    total_penalties += penalties\n",
    "    # العدد الكلي للحركات\n",
    "    total_epochs += epochs\n",
    "# طباعة التقييم\n",
    "print(f\"Results after {episodes} episodes:\")\n",
    "# وسطي عدد الحركات للوصول إلى الهدف\n",
    "print(f\"Average timesteps per episode: {(total_epochs / episodes)}\")\n",
    "# وسطي عدد الأخطاء\n",
    "print(f\"Average penalties per episode: {total_penalties / episodes}\")"
   ]
  },
  {
   "cell_type": "code",
   "execution_count": 9,
   "metadata": {},
   "outputs": [
    {
     "data": {
      "text/plain": [
       "array([[0., 0., 0., 0., 0., 0.],\n",
       "       [0., 0., 0., 0., 0., 0.],\n",
       "       [0., 0., 0., 0., 0., 0.],\n",
       "       ...,\n",
       "       [0., 0., 0., 0., 0., 0.],\n",
       "       [0., 0., 0., 0., 0., 0.],\n",
       "       [0., 0., 0., 0., 0., 0.]])"
      ]
     },
     "execution_count": 9,
     "metadata": {},
     "output_type": "execute_result"
    }
   ],
   "source": [
    "# المكتبة نمباي\n",
    "import numpy as np\n",
    "# عدد الحالات\n",
    "states=env.observation_space.n\n",
    "# عدد الأفعال\n",
    "actions=env.action_space.n\n",
    "# إنشاء مصفوفة نمباي كلها أصفار\n",
    "# عدد الصفوف هو عدد الحالات\n",
    "# عدد الأعمدة هو عدد الأفعال\n",
    "q_table = np.zeros([states, actions])\n",
    "q_table"
   ]
  },
  {
   "cell_type": "code",
   "execution_count": 10,
   "metadata": {},
   "outputs": [
    {
     "name": "stdout",
     "output_type": "stream",
     "text": [
      "Training finished.\n",
      "\n"
     ]
    }
   ],
   "source": [
    "# تدريب الوكيل\n",
    "\n",
    "# المعاملات الأساسية\n",
    "alpha = 0.4\n",
    "gamma = 0.6\n",
    "\n",
    "# عدد الحلقات\n",
    "episodes = 100000\n",
    "\n",
    "for i in range(episodes):\n",
    "    # إعادة التهيئة وتعيين حالة ابتدائية عشوائية\n",
    "    state = env.reset()[0]\n",
    "    # عداد الحركات\n",
    "    epochs = 0\n",
    "    # عداد الأخطاء في الركوب و التنزيل\n",
    "    penalties = 0\n",
    "    done = False\n",
    "    # الدوران حتى الوصول للهدف\n",
    "    while not done:\n",
    "        action = np.argmax(q_table[state]) # القيمة العظمى لقيم التعلم\n",
    "        # القيمة السابقة\n",
    "        old_value = q_table[state, action]\n",
    "        # الانتقال للحالة التالية\n",
    "        next_state, reward, done, _,_ = env.step(action)\n",
    "        next_state=next_state\n",
    "        # أكبر قيمة في الحالة التالية\n",
    "        next_max = np.max(q_table[next_state])\n",
    "        # القيمة الجديدة\n",
    "        new_value = (1 - alpha) * old_value + alpha * (reward + gamma * next_max)\n",
    "        # تعديل القيمة\n",
    "        q_table[state, action] = new_value\n",
    "        # الانتقال للحالة التالية\n",
    "        state = next_state\n",
    "# الانتهاء من التعلم\n",
    "print(\"Training finished.\\n\")"
   ]
  },
  {
   "cell_type": "code",
   "execution_count": 11,
   "metadata": {},
   "outputs": [
    {
     "data": {
      "text/plain": [
       "array([[ 0.        ,  0.        ,  0.        ,  0.        ,  0.        ,\n",
       "         0.        ],\n",
       "       [-2.36998839, -2.34639386, -2.33914219, -2.34639386, -2.27325184,\n",
       "        -4.        ],\n",
       "       [-2.04052738, -1.97946063, -1.95483418, -1.97946063, -0.7504    ,\n",
       "        -4.        ],\n",
       "       ...,\n",
       "       [-1.45447014, -1.51029146, -1.45447014, -1.50226579, -4.        ,\n",
       "        -4.        ],\n",
       "       [-2.13270742, -2.12294538, -2.13270742, -2.18928092, -4.        ,\n",
       "        -4.        ],\n",
       "       [-0.736     , -0.736     , -0.736     ,  1.28      , -4.        ,\n",
       "        -4.        ]])"
      ]
     },
     "execution_count": 11,
     "metadata": {},
     "output_type": "execute_result"
    }
   ],
   "source": [
    "q_table"
   ]
  },
  {
   "cell_type": "code",
   "execution_count": 12,
   "metadata": {},
   "outputs": [
    {
     "name": "stdout",
     "output_type": "stream",
     "text": [
      "Results after 100 episodes:\n",
      "Average timesteps per episode: 13.16\n",
      "Average penalties per episode: 0.0\n"
     ]
    }
   ],
   "source": [
    "# تقييم الأداء بعد التعلم\n",
    "\n",
    "# عدد الحلقات\n",
    "episodes = 100\n",
    "# عداد الحركات\n",
    "total_epochs = 0\n",
    "# عداد العقوبات\n",
    "total_penalties = 0\n",
    "\n",
    "for _ in range(episodes):\n",
    "    # حالة ابتدائية عشوائية\n",
    "    state = env.reset()[0]\n",
    "    # عداد أخطاء الحلقة\n",
    "    penalties=0\n",
    "    # عداد أخطاء الحلقة\n",
    "    reward = 0\n",
    "    epochs=0\n",
    "    done = False\n",
    "    # الدوران حتى الوصول إلى الهدف\n",
    "    while not done:\n",
    "        \n",
    "        # اختيار الفعل الموافق لأكبر قيم تعلم للحالة الحالية\n",
    "        action = np.argmax(q_table[state])\n",
    "        # الانتقال\n",
    "        state, reward, done, _,_ = env.step(action)\n",
    "        # عداد الأخطاء\n",
    "        if reward == -10:\n",
    "            penalties += 1\n",
    "        # عداد الحركات\n",
    "        epochs += 1\n",
    "    # العدد الكلي للأخطاء\n",
    "    total_penalties += penalties\n",
    "    # العدد الكلي للحركات\n",
    "    total_epochs += epochs\n",
    "# طباعة التقييم\n",
    "print(f\"Results after {episodes} episodes:\")\n",
    "# وسطي عدد الحركات للوصول إلى الهدف\n",
    "print(f\"Average timesteps per episode: {(total_epochs / episodes)}\")\n",
    "# وسطي عدد الأخطاء\n",
    "print(f\"Average penalties per episode: {total_penalties / episodes}\")\n"
   ]
  },
  {
   "cell_type": "code",
   "execution_count": 13,
   "metadata": {},
   "outputs": [
    {
     "name": "stdout",
     "output_type": "stream",
     "text": [
      "+---------+\n",
      "|\u001b[35m\u001b[34;1m\u001b[43mR\u001b[0m\u001b[0m\u001b[0m: | : :G|\n",
      "| : | : : |\n",
      "| : : : : |\n",
      "| | : | : |\n",
      "|Y| : |B: |\n",
      "+---------+\n",
      "  (Dropoff)\n",
      "\n",
      "Timestep: 10\n",
      "State: 0\n",
      "Action: Drop-of\n",
      "Reward: 20\n"
     ]
    }
   ],
   "source": [
    "# تحديد الحالة الابتدائية\n",
    "state = env.encode(3, 1, 2, 0) \n",
    "print(\"State:\", state)\n",
    "# إسناد الحالة للبيئة\n",
    "env.s = state\n",
    "# الإظهار\n",
    "arr=env.render()\n",
    "print(arr)\n",
    "# حفظ الحالات للتحريك لاحقا\n",
    "frames = [] # for animation\n",
    "# متغير للدلالة على الوصول للهدف\n",
    "done = False\n",
    "# كرر طالما لم نصل للهدف\n",
    "while not done:\n",
    "    # اختيار الفعل الموافق لأكبر قيم تعلم للحالة الحالية\n",
    "    action = np.argmax(q_table[state])\n",
    "    # الانتقال للحالة التالية\n",
    "    state, reward, done, _, _ = env.step(action)\n",
    "          \n",
    "    # إضافة إطار للعرض لاحقاً\n",
    "    frames.append({\n",
    "        'state': state,\n",
    "        'action': action,\n",
    "        'reward': reward\n",
    "        }\n",
    "    )\n",
    "\n",
    "# استدعاء التحريك\n",
    "print_frames(frames)"
   ]
  }
 ],
 "metadata": {
  "kernelspec": {
   "display_name": "Python 3 (ipykernel)",
   "language": "python",
   "name": "python3"
  },
  "language_info": {
   "codemirror_mode": {
    "name": "ipython",
    "version": 3
   },
   "file_extension": ".py",
   "mimetype": "text/x-python",
   "name": "python",
   "nbconvert_exporter": "python",
   "pygments_lexer": "ipython3",
   "version": "3.10.9"
  },
  "vscode": {
   "interpreter": {
    "hash": "570feb405e2e27c949193ac68f46852414290d515b0ba6e5d90d076ed2284471"
   }
  }
 },
 "nbformat": 4,
 "nbformat_minor": 2
}
