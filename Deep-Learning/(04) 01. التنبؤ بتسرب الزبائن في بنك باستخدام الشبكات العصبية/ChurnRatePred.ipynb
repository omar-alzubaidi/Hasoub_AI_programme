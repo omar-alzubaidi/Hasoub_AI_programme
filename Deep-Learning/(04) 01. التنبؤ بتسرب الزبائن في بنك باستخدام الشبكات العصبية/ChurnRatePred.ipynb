{
 "cells": [
  {
   "cell_type": "code",
   "execution_count": 1,
   "id": "8349c8b5",
   "metadata": {},
   "outputs": [
    {
     "data": {
      "text/html": [
       "<div>\n",
       "<style scoped>\n",
       "    .dataframe tbody tr th:only-of-type {\n",
       "        vertical-align: middle;\n",
       "    }\n",
       "\n",
       "    .dataframe tbody tr th {\n",
       "        vertical-align: top;\n",
       "    }\n",
       "\n",
       "    .dataframe thead th {\n",
       "        text-align: right;\n",
       "    }\n",
       "</style>\n",
       "<table border=\"1\" class=\"dataframe\">\n",
       "  <thead>\n",
       "    <tr style=\"text-align: right;\">\n",
       "      <th></th>\n",
       "      <th>RowNumber</th>\n",
       "      <th>CustomerId</th>\n",
       "      <th>Surname</th>\n",
       "      <th>CreditScore</th>\n",
       "      <th>Geography</th>\n",
       "      <th>Gender</th>\n",
       "      <th>Age</th>\n",
       "      <th>Tenure</th>\n",
       "      <th>Balance</th>\n",
       "      <th>NumOfProducts</th>\n",
       "      <th>HasCrCard</th>\n",
       "      <th>IsActiveMember</th>\n",
       "      <th>EstimatedSalary</th>\n",
       "      <th>Exited</th>\n",
       "    </tr>\n",
       "  </thead>\n",
       "  <tbody>\n",
       "    <tr>\n",
       "      <th>0</th>\n",
       "      <td>1</td>\n",
       "      <td>15634602</td>\n",
       "      <td>Hargrave</td>\n",
       "      <td>619</td>\n",
       "      <td>France</td>\n",
       "      <td>Female</td>\n",
       "      <td>42</td>\n",
       "      <td>2</td>\n",
       "      <td>0.00</td>\n",
       "      <td>1</td>\n",
       "      <td>1</td>\n",
       "      <td>1</td>\n",
       "      <td>101348.88</td>\n",
       "      <td>1</td>\n",
       "    </tr>\n",
       "    <tr>\n",
       "      <th>1</th>\n",
       "      <td>2</td>\n",
       "      <td>15647311</td>\n",
       "      <td>Hill</td>\n",
       "      <td>608</td>\n",
       "      <td>Spain</td>\n",
       "      <td>Female</td>\n",
       "      <td>41</td>\n",
       "      <td>1</td>\n",
       "      <td>83807.86</td>\n",
       "      <td>1</td>\n",
       "      <td>0</td>\n",
       "      <td>1</td>\n",
       "      <td>112542.58</td>\n",
       "      <td>0</td>\n",
       "    </tr>\n",
       "    <tr>\n",
       "      <th>2</th>\n",
       "      <td>3</td>\n",
       "      <td>15619304</td>\n",
       "      <td>Onio</td>\n",
       "      <td>502</td>\n",
       "      <td>France</td>\n",
       "      <td>Female</td>\n",
       "      <td>42</td>\n",
       "      <td>8</td>\n",
       "      <td>159660.80</td>\n",
       "      <td>3</td>\n",
       "      <td>1</td>\n",
       "      <td>0</td>\n",
       "      <td>113931.57</td>\n",
       "      <td>1</td>\n",
       "    </tr>\n",
       "    <tr>\n",
       "      <th>3</th>\n",
       "      <td>4</td>\n",
       "      <td>15701354</td>\n",
       "      <td>Boni</td>\n",
       "      <td>699</td>\n",
       "      <td>France</td>\n",
       "      <td>Female</td>\n",
       "      <td>39</td>\n",
       "      <td>1</td>\n",
       "      <td>0.00</td>\n",
       "      <td>2</td>\n",
       "      <td>0</td>\n",
       "      <td>0</td>\n",
       "      <td>93826.63</td>\n",
       "      <td>0</td>\n",
       "    </tr>\n",
       "    <tr>\n",
       "      <th>4</th>\n",
       "      <td>5</td>\n",
       "      <td>15737888</td>\n",
       "      <td>Mitchell</td>\n",
       "      <td>850</td>\n",
       "      <td>Spain</td>\n",
       "      <td>Female</td>\n",
       "      <td>43</td>\n",
       "      <td>2</td>\n",
       "      <td>125510.82</td>\n",
       "      <td>1</td>\n",
       "      <td>1</td>\n",
       "      <td>1</td>\n",
       "      <td>79084.10</td>\n",
       "      <td>0</td>\n",
       "    </tr>\n",
       "  </tbody>\n",
       "</table>\n",
       "</div>"
      ],
      "text/plain": [
       "   RowNumber  CustomerId   Surname  CreditScore Geography  Gender  Age  \\\n",
       "0          1    15634602  Hargrave          619    France  Female   42   \n",
       "1          2    15647311      Hill          608     Spain  Female   41   \n",
       "2          3    15619304      Onio          502    France  Female   42   \n",
       "3          4    15701354      Boni          699    France  Female   39   \n",
       "4          5    15737888  Mitchell          850     Spain  Female   43   \n",
       "\n",
       "   Tenure    Balance  NumOfProducts  HasCrCard  IsActiveMember  \\\n",
       "0       2       0.00              1          1               1   \n",
       "1       1   83807.86              1          0               1   \n",
       "2       8  159660.80              3          1               0   \n",
       "3       1       0.00              2          0               0   \n",
       "4       2  125510.82              1          1               1   \n",
       "\n",
       "   EstimatedSalary  Exited  \n",
       "0        101348.88       1  \n",
       "1        112542.58       0  \n",
       "2        113931.57       1  \n",
       "3         93826.63       0  \n",
       "4         79084.10       0  "
      ]
     },
     "execution_count": 1,
     "metadata": {},
     "output_type": "execute_result"
    }
   ],
   "source": [
    "import pandas as pd\n",
    "\n",
    "df = pd.read_csv('Churn_Modelling.csv')\n",
    "df.head()"
   ]
  },
  {
   "cell_type": "code",
   "execution_count": 2,
   "id": "06d47047",
   "metadata": {},
   "outputs": [
    {
     "data": {
      "text/plain": [
       "Exited\n",
       "0    7963\n",
       "1    2037\n",
       "Name: count, dtype: int64"
      ]
     },
     "execution_count": 2,
     "metadata": {},
     "output_type": "execute_result"
    }
   ],
   "source": [
    "value_counts = df['Exited'].value_counts()\n",
    "\n",
    "value_counts"
   ]
  },
  {
   "cell_type": "code",
   "execution_count": 3,
   "id": "e3ba3f46",
   "metadata": {},
   "outputs": [
    {
     "data": {
      "image/png": "[encoded data removed]",
      "text/plain": [
       "<Figure size 640x480 with 1 Axes>"
      ]
     },
     "metadata": {},
     "output_type": "display_data"
    }
   ],
   "source": [
    "import matplotlib.pyplot as plt\n",
    "\n",
    "labels = value_counts.index\n",
    "\n",
    "counts = value_counts.values\n",
    "\n",
    "plt.pie(counts, labels=labels, autopct='%1.1f%%')\n",
    "\n",
    "plt.title('Distribution of Exited')\n",
    "\n",
    "plt.show()"
   ]
  },
  {
   "cell_type": "code",
   "execution_count": 4,
   "id": "c8d2b631",
   "metadata": {},
   "outputs": [],
   "source": [
    "# pip install --upgrade scikit-learn imbalanced-learn imblearn"
   ]
  },
  {
   "cell_type": "code",
   "execution_count": 5,
   "id": "00f45a5b",
   "metadata": {},
   "outputs": [
    {
     "name": "stdout",
     "output_type": "stream",
     "text": [
      "Exited\n",
      "1    7963\n",
      "0    7963\n",
      "Name: count, dtype: int64\n"
     ]
    }
   ],
   "source": [
    "from imblearn.over_sampling import RandomOverSampler\n",
    "\n",
    "input_columns = df.drop('Exited', axis=1)  \n",
    "\n",
    "class_column = df['Exited']\n",
    "\n",
    "oversampler = RandomOverSampler(random_state=0)\n",
    "\n",
    "input_columns_resampled, class_column_resampled = oversampler.fit_resample(input_columns, class_column)\n",
    "\n",
    "\n",
    "df_balanced = pd.concat([input_columns_resampled, class_column_resampled], axis=1)\n",
    "\n",
    "class_distribution = df_balanced['Exited'].value_counts()\n",
    "print(class_distribution)"
   ]
  },
  {
   "cell_type": "code",
   "execution_count": 6,
   "id": "2855dddb",
   "metadata": {},
   "outputs": [
    {
     "data": {
      "image/png": "[encoded data removed]",
      "text/plain": [
       "<Figure size 640x480 with 1 Axes>"
      ]
     },
     "metadata": {},
     "output_type": "display_data"
    }
   ],
   "source": [
    "value_counts = df_balanced['Exited'].value_counts()\n",
    "\n",
    "labels = value_counts.index\n",
    "\n",
    "counts = value_counts.values\n",
    "\n",
    "plt.pie(counts, labels=labels, autopct='%1.1f%%')\n",
    "\n",
    "plt.title('Distribution of Exited')\n",
    "\n",
    "plt.show()"
   ]
  },
  {
   "cell_type": "code",
   "execution_count": 7,
   "id": "722106a5",
   "metadata": {},
   "outputs": [
    {
     "name": "stdout",
     "output_type": "stream",
     "text": [
      "[[619 'France' 'Female' ... 1 1 101348.88]\n",
      " [608 'Spain' 'Female' ... 0 1 112542.58]\n",
      " [502 'France' 'Female' ... 1 0 113931.57]\n",
      " ...\n",
      " [565 'Germany' 'Male' ... 1 0 175070.94]\n",
      " [553 'Spain' 'Female' ... 0 1 30730.95]\n",
      " [492 'France' 'Female' ... 1 1 182865.09]]\n"
     ]
    }
   ],
   "source": [
    "X = df_balanced.iloc[:, 3:13].values\n",
    "print(X)"
   ]
  },
  {
   "cell_type": "code",
   "execution_count": 8,
   "id": "9606ae4a",
   "metadata": {},
   "outputs": [
    {
     "name": "stdout",
     "output_type": "stream",
     "text": [
      "[1 0 1 ... 1 1 1]\n"
     ]
    }
   ],
   "source": [
    "y = df_balanced.iloc[:, 13].values\n",
    "print(y)"
   ]
  },
  {
   "cell_type": "code",
   "execution_count": 9,
   "id": "fd529958",
   "metadata": {},
   "outputs": [
    {
     "name": "stdout",
     "output_type": "stream",
     "text": [
      "['Female' 'Female' 'Female' ... 'Male' 'Female' 'Female']\n"
     ]
    }
   ],
   "source": [
    "print(X[:, 2])"
   ]
  },
  {
   "cell_type": "code",
   "execution_count": 10,
   "id": "6e9c7fbd",
   "metadata": {},
   "outputs": [],
   "source": [
    "from sklearn.preprocessing import LabelEncoder\n",
    "\n",
    "labelencoder_gender = LabelEncoder()\n",
    "X[:, 2] = labelencoder_gender.fit_transform(X[:, 2])"
   ]
  },
  {
   "cell_type": "code",
   "execution_count": 11,
   "id": "503b8899",
   "metadata": {},
   "outputs": [
    {
     "name": "stdout",
     "output_type": "stream",
     "text": [
      "[0 0 0 ... 1 0 0]\n"
     ]
    }
   ],
   "source": [
    "print(X[:, 2])"
   ]
  },
  {
   "cell_type": "code",
   "execution_count": 12,
   "id": "b44a7583",
   "metadata": {},
   "outputs": [
    {
     "data": {
      "text/plain": [
       "array([1, 0])"
      ]
     },
     "execution_count": 12,
     "metadata": {},
     "output_type": "execute_result"
    }
   ],
   "source": [
    "labelencoder_gender.transform([\"Male\",\"Female\"])"
   ]
  },
  {
   "cell_type": "code",
   "execution_count": 13,
   "id": "19ebf742",
   "metadata": {},
   "outputs": [
    {
     "name": "stdout",
     "output_type": "stream",
     "text": [
      "['France' 'Germany' 'Spain']\n"
     ]
    }
   ],
   "source": [
    "import numpy as np\n",
    "\n",
    "distinct_values = np.unique(X[:, 1])\n",
    "print(distinct_values)"
   ]
  },
  {
   "cell_type": "code",
   "execution_count": 14,
   "id": "d14fb5d8",
   "metadata": {},
   "outputs": [],
   "source": [
    "from sklearn.compose import ColumnTransformer\n",
    "from sklearn.preprocessing import OneHotEncoder\n",
    "\n",
    "ct = ColumnTransformer(transformers=[('encoder', OneHotEncoder(), [1])], remainder='passthrough')\n",
    "\n",
    "\n",
    "X = ct.fit_transform(X)"
   ]
  },
  {
   "cell_type": "code",
   "execution_count": 15,
   "id": "8c9007d5",
   "metadata": {},
   "outputs": [
    {
     "name": "stdout",
     "output_type": "stream",
     "text": [
      "[1.0 0.0 0.0 619 0 42 2 0.0 1 1 1 101348.88]\n"
     ]
    }
   ],
   "source": [
    "print(X[0])"
   ]
  },
  {
   "cell_type": "code",
   "execution_count": 16,
   "id": "77cf506d",
   "metadata": {},
   "outputs": [],
   "source": [
    "from sklearn.model_selection import train_test_split\n",
    "\n",
    "X_train, X_test, y_train, y_test = train_test_split(X, y, random_state = 0)"
   ]
  },
  {
   "cell_type": "code",
   "execution_count": 17,
   "id": "3f6242ca",
   "metadata": {},
   "outputs": [],
   "source": [
    "from sklearn.preprocessing import StandardScaler\n",
    "\n",
    "sc = StandardScaler()\n",
    "\n",
    "X_train = sc.fit_transform(X_train)\n",
    "\n",
    "X_test = sc.transform(X_test)"
   ]
  },
  {
   "cell_type": "code",
   "execution_count": 18,
   "id": "05af578a",
   "metadata": {},
   "outputs": [
    {
     "name": "stdout",
     "output_type": "stream",
     "text": [
      "[[-0.93041226 -0.6660016   1.83627033 ... -1.55261795 -0.92478892\n",
      "  -0.87888847]\n",
      " [ 1.07479237 -0.6660016  -0.54458213 ...  0.64407345 -0.92478892\n",
      "  -1.26171023]\n",
      " [-0.93041226 -0.6660016   1.83627033 ...  0.64407345  1.08132784\n",
      "   1.70394276]\n",
      " ...\n",
      " [-0.93041226 -0.6660016   1.83627033 ...  0.64407345  1.08132784\n",
      "   0.83065375]\n",
      " [-0.93041226  1.50149789 -0.54458213 ...  0.64407345 -0.92478892\n",
      "  -1.2493363 ]\n",
      " [-0.93041226  1.50149789 -0.54458213 ...  0.64407345 -0.92478892\n",
      "   0.31223535]]\n"
     ]
    }
   ],
   "source": [
    "print(X_train)"
   ]
  },
  {
   "cell_type": "code",
   "execution_count": 19,
   "id": "008325a9",
   "metadata": {},
   "outputs": [],
   "source": [
    "import numpy as np\n",
    "import tensorflow as tf\n",
    "\n",
    "np.random.seed(42)\n",
    "\n",
    "tf.random.set_seed(42)"
   ]
  },
  {
   "cell_type": "code",
   "execution_count": 20,
   "id": "18f1d10f",
   "metadata": {},
   "outputs": [],
   "source": [
    "from keras.models import Sequential\n",
    "from keras.layers import Dense\n",
    "\n",
    "model = Sequential()"
   ]
  },
  {
   "cell_type": "code",
   "execution_count": 21,
   "id": "8c967baa",
   "metadata": {},
   "outputs": [],
   "source": [
    "input_dim = len(X_train[0])\n",
    "\n",
    "model.add(Dense(6, activation = 'relu', input_dim = input_dim))\n",
    "\n",
    "model.add(Dense(6, activation = 'relu'))\n",
    "\n",
    "model.add(Dense(1, activation = 'sigmoid'))"
   ]
  },
  {
   "cell_type": "code",
   "execution_count": 22,
   "id": "6f525952",
   "metadata": {},
   "outputs": [],
   "source": [
    "model.compile(optimizer = 'adam', loss = 'binary_crossentropy', metrics = ['accuracy'])"
   ]
  },
  {
   "cell_type": "code",
   "execution_count": 23,
   "id": "1c8c488a",
   "metadata": {},
   "outputs": [
    {
     "name": "stdout",
     "output_type": "stream",
     "text": [
      "Model: \"sequential\"\n",
      "_________________________________________________________________\n",
      " Layer (type)                Output Shape              Param #   \n",
      "=================================================================\n",
      " dense (Dense)               (None, 6)                 78        \n",
      "                                                                 \n",
      " dense_1 (Dense)             (None, 6)                 42        \n",
      "                                                                 \n",
      " dense_2 (Dense)             (None, 1)                 7         \n",
      "                                                                 \n",
      "=================================================================\n",
      "Total params: 127 (508.00 Byte)\n",
      "Trainable params: 127 (508.00 Byte)\n",
      "Non-trainable params: 0 (0.00 Byte)\n",
      "_________________________________________________________________\n"
     ]
    }
   ],
   "source": [
    "model.summary()"
   ]
  },
  {
   "cell_type": "code",
   "execution_count": 24,
   "id": "db68c46b",
   "metadata": {},
   "outputs": [
    {
     "name": "stdout",
     "output_type": "stream",
     "text": [
      "Epoch 1/10\n",
      "1195/1195 [==============================] - 2s 894us/step - loss: 0.6035 - accuracy: 0.6695\n",
      "Epoch 2/10\n",
      "1195/1195 [==============================] - 1s 903us/step - loss: 0.5146 - accuracy: 0.7401\n",
      "Epoch 3/10\n",
      "1195/1195 [==============================] - 1s 897us/step - loss: 0.4840 - accuracy: 0.7642\n",
      "Epoch 4/10\n",
      "1195/1195 [==============================] - 1s 892us/step - loss: 0.4730 - accuracy: 0.7720\n",
      "Epoch 5/10\n",
      "1195/1195 [==============================] - 1s 893us/step - loss: 0.4669 - accuracy: 0.7776\n",
      "Epoch 6/10\n",
      "1195/1195 [==============================] - 1s 917us/step - loss: 0.4634 - accuracy: 0.7754\n",
      "Epoch 7/10\n",
      "1195/1195 [==============================] - 1s 912us/step - loss: 0.4599 - accuracy: 0.7774\n",
      "Epoch 8/10\n",
      "1195/1195 [==============================] - 1s 894us/step - loss: 0.4579 - accuracy: 0.7809\n",
      "Epoch 9/10\n",
      "1195/1195 [==============================] - 1s 891us/step - loss: 0.4562 - accuracy: 0.7806\n",
      "Epoch 10/10\n",
      "1195/1195 [==============================] - 1s 935us/step - loss: 0.4548 - accuracy: 0.7824\n"
     ]
    },
    {
     "data": {
      "text/plain": [
       "<keras.src.callbacks.History at 0x14163a49fd0>"
      ]
     },
     "execution_count": 24,
     "metadata": {},
     "output_type": "execute_result"
    }
   ],
   "source": [
    "model.fit(X_train, y_train, batch_size = 10, epochs = 10)"
   ]
  },
  {
   "cell_type": "code",
   "execution_count": 25,
   "id": "23c80e26",
   "metadata": {},
   "outputs": [
    {
     "name": "stdout",
     "output_type": "stream",
     "text": [
      "125/125 [==============================] - 0s 790us/step - loss: 0.4711 - accuracy: 0.7727\n",
      "Loss: 0.4711152911186218\n",
      "Accuracy: 0.7727272510528564\n"
     ]
    }
   ],
   "source": [
    "evaluation = model.evaluate(X_test, y_test)\n",
    "\n",
    "print(\"Loss:\", evaluation[0])\n",
    "print(\"Accuracy:\", evaluation[1])"
   ]
  },
  {
   "cell_type": "code",
   "execution_count": 26,
   "id": "1e93a8b4",
   "metadata": {},
   "outputs": [
    {
     "name": "stdout",
     "output_type": "stream",
     "text": [
      "125/125 [==============================] - 0s 717us/step\n"
     ]
    },
    {
     "data": {
      "text/plain": [
       "array([[False],\n",
       "       [ True],\n",
       "       [ True],\n",
       "       ...,\n",
       "       [ True],\n",
       "       [False],\n",
       "       [ True]])"
      ]
     },
     "execution_count": 26,
     "metadata": {},
     "output_type": "execute_result"
    }
   ],
   "source": [
    "y_pred = model.predict(X_test)\n",
    "\n",
    "y_pred_binary = (y_pred > 0.5)\n",
    "y_pred_binary"
   ]
  },
  {
   "cell_type": "code",
   "execution_count": 27,
   "id": "fcc9d9c9",
   "metadata": {},
   "outputs": [
    {
     "name": "stdout",
     "output_type": "stream",
     "text": [
      "Accuracy: 0.7727272727272727\n",
      "Precision: 0.7795918367346939\n",
      "Recall: 0.7636181909045477\n",
      "F1 Score: 0.7715223428427164\n"
     ]
    }
   ],
   "source": [
    "from sklearn.metrics import accuracy_score, precision_score, recall_score, f1_score\n",
    "\n",
    "accuracy = accuracy_score(y_test, y_pred_binary)\n",
    "print(\"Accuracy:\", accuracy)\n",
    "\n",
    "precision = precision_score(y_test, y_pred_binary)\n",
    "print(\"Precision:\", precision)\n",
    "\n",
    "recall = recall_score(y_test, y_pred_binary)\n",
    "print(\"Recall:\", recall)\n",
    "\n",
    "f1 = f1_score(y_test, y_pred_binary)\n",
    "print(\"F1 Score:\", f1)"
   ]
  },
  {
   "cell_type": "code",
   "execution_count": 28,
   "id": "41ec22ce",
   "metadata": {},
   "outputs": [
    {
     "name": "stdout",
     "output_type": "stream",
     "text": [
      "Epoch 1/20\n",
      "1195/1195 [==============================] - 2s 1ms/step - loss: 0.5023 - accuracy: 0.7473\n",
      "Epoch 2/20\n",
      "1195/1195 [==============================] - 1s 1ms/step - loss: 0.4493 - accuracy: 0.7845\n",
      "Epoch 3/20\n",
      "1195/1195 [==============================] - 1s 1ms/step - loss: 0.4361 - accuracy: 0.7943\n",
      "Epoch 4/20\n",
      "1195/1195 [==============================] - 1s 1ms/step - loss: 0.4236 - accuracy: 0.8017\n",
      "Epoch 5/20\n",
      "1195/1195 [==============================] - 1s 1ms/step - loss: 0.4116 - accuracy: 0.8077\n",
      "Epoch 6/20\n",
      "1195/1195 [==============================] - 1s 1ms/step - loss: 0.3990 - accuracy: 0.8154\n",
      "Epoch 7/20\n",
      "1195/1195 [==============================] - 1s 1ms/step - loss: 0.3865 - accuracy: 0.8241\n",
      "Epoch 8/20\n",
      "1195/1195 [==============================] - 1s 1ms/step - loss: 0.3739 - accuracy: 0.8279\n",
      "Epoch 9/20\n",
      "1195/1195 [==============================] - 1s 1ms/step - loss: 0.3601 - accuracy: 0.8387\n",
      "Epoch 10/20\n",
      "1195/1195 [==============================] - 1s 1ms/step - loss: 0.3450 - accuracy: 0.8479\n",
      "Epoch 11/20\n",
      "1195/1195 [==============================] - 1s 1ms/step - loss: 0.3324 - accuracy: 0.8526\n",
      "Epoch 12/20\n",
      "1195/1195 [==============================] - 1s 1ms/step - loss: 0.3216 - accuracy: 0.8582\n",
      "Epoch 13/20\n",
      "1195/1195 [==============================] - 1s 1ms/step - loss: 0.3107 - accuracy: 0.8628\n",
      "Epoch 14/20\n",
      "1195/1195 [==============================] - 1s 1ms/step - loss: 0.2956 - accuracy: 0.8700\n",
      "Epoch 15/20\n",
      "1195/1195 [==============================] - 1s 1ms/step - loss: 0.2833 - accuracy: 0.8783\n",
      "Epoch 16/20\n",
      "1195/1195 [==============================] - 1s 1ms/step - loss: 0.2761 - accuracy: 0.8808\n",
      "Epoch 17/20\n",
      "1195/1195 [==============================] - 1s 1ms/step - loss: 0.2658 - accuracy: 0.8881\n",
      "Epoch 18/20\n",
      "1195/1195 [==============================] - 1s 1ms/step - loss: 0.2536 - accuracy: 0.8927\n",
      "Epoch 19/20\n",
      "1195/1195 [==============================] - 1s 1ms/step - loss: 0.2451 - accuracy: 0.8974\n",
      "Epoch 20/20\n",
      "1195/1195 [==============================] - 1s 1ms/step - loss: 0.2358 - accuracy: 0.9017\n"
     ]
    },
    {
     "data": {
      "text/plain": [
       "<keras.src.callbacks.History at 0x14164b48950>"
      ]
     },
     "execution_count": 28,
     "metadata": {},
     "output_type": "execute_result"
    }
   ],
   "source": [
    "model = Sequential()\n",
    "\n",
    "input_dim = len(X_train[0])\n",
    "\n",
    "model.add(Dense(128, activation = 'relu', input_dim = input_dim))\n",
    "\n",
    "model.add(Dense(64, activation = 'relu'))\n",
    "\n",
    "model.add(Dense(32, activation = 'relu'))\n",
    "\n",
    "model.add(Dense(16, activation = 'relu'))\n",
    "\n",
    "model.add(Dense(8, activation = 'relu'))\n",
    "\n",
    "model.add(Dense(1, activation = 'sigmoid'))\n",
    "\n",
    "model.compile(optimizer = 'adam', loss = 'binary_crossentropy', metrics = ['accuracy' ])\n",
    "\n",
    "model.fit(X_train, y_train, batch_size = 10, epochs = 20)"
   ]
  },
  {
   "cell_type": "code",
   "execution_count": 29,
   "id": "262936b4",
   "metadata": {},
   "outputs": [
    {
     "name": "stdout",
     "output_type": "stream",
     "text": [
      "125/125 [==============================] - 0s 766us/step\n",
      "Accuracy: 0.8583626318432949\n",
      "Precision: 0.8303448275862069\n",
      "Recall: 0.9025487256371814\n",
      "F1 Score: 0.8649425287356322\n"
     ]
    }
   ],
   "source": [
    "y_pred = model.predict(X_test)\n",
    "\n",
    "y_pred_binary = (y_pred > 0.5)\n",
    "\n",
    "accuracy = accuracy_score(y_test, y_pred_binary)\n",
    "print(\"Accuracy:\", accuracy)\n",
    "\n",
    "precision = precision_score(y_test, y_pred_binary)\n",
    "print(\"Precision:\", precision)\n",
    "\n",
    "recall = recall_score(y_test, y_pred_binary)\n",
    "print(\"Recall:\", recall)\n",
    "\n",
    "f1 = f1_score(y_test, y_pred_binary)\n",
    "print(\"F1 Score:\", f1)"
   ]
  },
  {
   "cell_type": "code",
   "execution_count": 31,
   "id": "ea596751",
   "metadata": {},
   "outputs": [],
   "source": [
    "model.save(\"churn_model.keras\")"
   ]
  },
  {
   "cell_type": "code",
   "execution_count": 33,
   "id": "8f7a8377",
   "metadata": {},
   "outputs": [
    {
     "data": {
      "text/plain": [
       "['churn_label_encoder.pkl']"
      ]
     },
     "execution_count": 33,
     "metadata": {},
     "output_type": "execute_result"
    }
   ],
   "source": [
    "from joblib import dump\n",
    "\n",
    "dump(labelencoder_gender, \"churn_label_encoder.pkl\")"
   ]
  },
  {
   "cell_type": "code",
   "execution_count": 34,
   "id": "cddf0534",
   "metadata": {},
   "outputs": [
    {
     "data": {
      "text/plain": [
       "['churn_column_transformer.pkl']"
      ]
     },
     "execution_count": 34,
     "metadata": {},
     "output_type": "execute_result"
    }
   ],
   "source": [
    "from joblib import dump\n",
    "\n",
    "dump(ct, \"churn_column_transformer.pkl\")"
   ]
  },
  {
   "cell_type": "code",
   "execution_count": 35,
   "id": "8486127c",
   "metadata": {},
   "outputs": [
    {
     "data": {
      "text/plain": [
       "['churn_standard_scaler.pkl']"
      ]
     },
     "execution_count": 35,
     "metadata": {},
     "output_type": "execute_result"
    }
   ],
   "source": [
    "from joblib import dump\n",
    "\n",
    "dump(sc, \"churn_standard_scaler.pkl\")"
   ]
  },
  {
   "cell_type": "code",
   "execution_count": 36,
   "id": "70c3fc53",
   "metadata": {},
   "outputs": [],
   "source": [
    "new_customer = np.array( [[600,\"France\",\"Male\",40, 3, 60000, 2, 1, 1, 50000]])"
   ]
  },
  {
   "cell_type": "code",
   "execution_count": 37,
   "id": "b829e5af",
   "metadata": {},
   "outputs": [],
   "source": [
    "from joblib import load\n",
    "\n",
    "labelencoder_gender_loaded=load(\"churn_label_encoder.pkl\")\n",
    "\n",
    "new_customer[:, 2] = labelencoder_gender_loaded.transform(new_customer[:, 2])"
   ]
  },
  {
   "cell_type": "code",
   "execution_count": 38,
   "id": "cb5b3fab",
   "metadata": {},
   "outputs": [],
   "source": [
    "from joblib import load\n",
    "\n",
    "ct_loaded = load(\"churn_column_transformer.pkl\")\n",
    "\n",
    "new_customer = ct.transform(new_customer)"
   ]
  },
  {
   "cell_type": "code",
   "execution_count": 39,
   "id": "ae64e275",
   "metadata": {},
   "outputs": [
    {
     "name": "stdout",
     "output_type": "stream",
     "text": [
      "[[ 1.07479237 -0.6660016  -0.54458213 -0.49084051  0.98454672 -0.10120986\n",
      "  -0.67592971 -0.35207194  0.73346722  0.64407345  1.08132784 -0.88180893]]\n"
     ]
    }
   ],
   "source": [
    "from joblib import load\n",
    "\n",
    "sc_loaded = load(\"churn_standard_scaler.pkl\")\n",
    "\n",
    "new_customer = sc_loaded.transform(new_customer)\n",
    "print(new_customer)"
   ]
  },
  {
   "cell_type": "code",
   "execution_count": 42,
   "id": "706767d1",
   "metadata": {},
   "outputs": [],
   "source": [
    "from keras.models import load_model\n",
    "\n",
    "loaded_model = load_model(\"churn_model.keras\")"
   ]
  },
  {
   "cell_type": "code",
   "execution_count": 43,
   "id": "1a7acbf3",
   "metadata": {},
   "outputs": [
    {
     "name": "stdout",
     "output_type": "stream",
     "text": [
      "1/1 [==============================] - 0s 55ms/step\n",
      "[[False]]\n"
     ]
    }
   ],
   "source": [
    "new_prediction_proba = loaded_model.predict(new_customer)\n",
    "\n",
    "new_prediction = (new_prediction_proba > 0.5)\n",
    "\n",
    "print(new_prediction)"
   ]
  }
 ],
 "metadata": {
  "kernelspec": {
   "display_name": "Python 3 (ipykernel)",
   "language": "python",
   "name": "python3"
  },
  "language_info": {
   "codemirror_mode": {
    "name": "ipython",
    "version": 3
   },
   "file_extension": ".py",
   "mimetype": "text/x-python",
   "name": "python",
   "nbconvert_exporter": "python",
   "pygments_lexer": "ipython3",
   "version": "3.11.5"
  }
 },
 "nbformat": 4,
 "nbformat_minor": 5
}
