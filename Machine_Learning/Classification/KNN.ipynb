{
 "cells": [
  {
   "cell_type": "code",
   "execution_count": 1,
   "id": "945dcdc8",
   "metadata": {},
   "outputs": [
    {
     "name": "stdout",
     "output_type": "stream",
     "text": [
      "This fruit is a pear\n"
     ]
    }
   ],
   "source": [
    "from sklearn.neighbors import KNeighborsClassifier\n",
    "\n",
    "X = [[7,7],[7,4],[1,2],[2,2]]\n",
    "y = [0, 0, 1, 1]\n",
    "\n",
    "model = KNeighborsClassifier(n_neighbors=3)\n",
    "\n",
    "model.fit(X, y)\n",
    "\n",
    "pred = model.predict([[5,6]])\n",
    "\n",
    "if pred == 0:\n",
    "    print('This fruit is a pear')\n",
    "else:\n",
    "    print('This fruit is a grape')"
   ]
  }
 ],
 "metadata": {
  "kernelspec": {
   "display_name": "Python 3 (ipykernel)",
   "language": "python",
   "name": "python3"
  },
  "language_info": {
   "codemirror_mode": {
    "name": "ipython",
    "version": 3
   },
   "file_extension": ".py",
   "mimetype": "text/x-python",
   "name": "python",
   "nbconvert_exporter": "python",
   "pygments_lexer": "ipython3",
   "version": "3.10.9"
  }
 },
 "nbformat": 4,
 "nbformat_minor": 5
}
