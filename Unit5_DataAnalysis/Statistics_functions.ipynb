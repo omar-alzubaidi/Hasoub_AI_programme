{
 "cells": [
  {
   "cell_type": "code",
   "execution_count": 1,
   "id": "32563125",
   "metadata": {},
   "outputs": [
    {
     "name": "stdout",
     "output_type": "stream",
     "text": [
      "<class 'pandas.core.frame.DataFrame'>\n",
      "RangeIndex: 1000 entries, 0 to 999\n",
      "Data columns (total 4 columns):\n",
      " #   Column         Non-Null Count  Dtype \n",
      "---  ------         --------------  ----- \n",
      " 0   gender         1000 non-null   object\n",
      " 1   math score     1000 non-null   int64 \n",
      " 2   reading score  1000 non-null   int64 \n",
      " 3   writing score  1000 non-null   int64 \n",
      "dtypes: int64(3), object(1)\n",
      "memory usage: 31.4+ KB\n"
     ]
    }
   ],
   "source": [
    "import pandas as pd\n",
    "\n",
    "df = pd.read_csv(\"Students_exams.csv\")\n",
    "\n",
    "df.info()"
   ]
  },
  {
   "cell_type": "code",
   "execution_count": 2,
   "id": "e8e966ec",
   "metadata": {},
   "outputs": [
    {
     "name": "stdout",
     "output_type": "stream",
     "text": [
      "count = 1000\n"
     ]
    }
   ],
   "source": [
    "x = df['math score'].count()\n",
    "print(\"count =\", x)"
   ]
  },
  {
   "cell_type": "code",
   "execution_count": 3,
   "id": "1df953e9",
   "metadata": {},
   "outputs": [
    {
     "name": "stdout",
     "output_type": "stream",
     "text": [
      "mean = 66.089\n"
     ]
    }
   ],
   "source": [
    "x = df['math score'].mean()\n",
    "print(\"mean =\", x)"
   ]
  },
  {
   "cell_type": "code",
   "execution_count": 4,
   "id": "17a132d4",
   "metadata": {},
   "outputs": [
    {
     "name": "stdout",
     "output_type": "stream",
     "text": [
      "min = 0\n"
     ]
    }
   ],
   "source": [
    "x = df['math score'].min()\n",
    "print(\"min =\", x)"
   ]
  },
  {
   "cell_type": "code",
   "execution_count": 5,
   "id": "a6aa0533",
   "metadata": {},
   "outputs": [
    {
     "name": "stdout",
     "output_type": "stream",
     "text": [
      "max = 100\n"
     ]
    }
   ],
   "source": [
    "x = df['math score'].max()\n",
    "print(\"max =\", x)"
   ]
  },
  {
   "cell_type": "code",
   "execution_count": 6,
   "id": "158d08eb",
   "metadata": {},
   "outputs": [
    {
     "name": "stdout",
     "output_type": "stream",
     "text": [
      "median = 66.0\n"
     ]
    }
   ],
   "source": [
    "x = df['math score'].median()\n",
    "print(\"median =\", x)"
   ]
  },
  {
   "cell_type": "code",
   "execution_count": 7,
   "id": "50b46dd3",
   "metadata": {},
   "outputs": [
    {
     "name": "stdout",
     "output_type": "stream",
     "text": [
      "quantile = 66.0\n"
     ]
    }
   ],
   "source": [
    "x = df['math score'].quantile(0.5)\n",
    "print(\"quantile =\", x)"
   ]
  },
  {
   "cell_type": "code",
   "execution_count": 8,
   "id": "497963af",
   "metadata": {},
   "outputs": [
    {
     "name": "stdout",
     "output_type": "stream",
     "text": [
      "quantile = 57.0\n"
     ]
    }
   ],
   "source": [
    "x = df['math score'].quantile(0.25)\n",
    "print(\"quantile =\", x)"
   ]
  },
  {
   "cell_type": "code",
   "execution_count": 9,
   "id": "e7ebbd0a",
   "metadata": {},
   "outputs": [
    {
     "name": "stdout",
     "output_type": "stream",
     "text": [
      "quantile = 77.0\n"
     ]
    }
   ],
   "source": [
    "x = df['math score'].quantile(0.75)\n",
    "print(\"quantile =\", x)"
   ]
  }
 ],
 "metadata": {
  "kernelspec": {
   "display_name": "Python 3 (ipykernel)",
   "language": "python",
   "name": "python3"
  },
  "language_info": {
   "codemirror_mode": {
    "name": "ipython",
    "version": 3
   },
   "file_extension": ".py",
   "mimetype": "text/x-python",
   "name": "python",
   "nbconvert_exporter": "python",
   "pygments_lexer": "ipython3",
   "version": "3.10.9"
  }
 },
 "nbformat": 4,
 "nbformat_minor": 5
}
