{
 "cells": [
  {
   "cell_type": "code",
   "execution_count": 1,
   "id": "127f365a",
   "metadata": {},
   "outputs": [
    {
     "data": {
      "text/html": [
       "<div>\n",
       "<style scoped>\n",
       "    .dataframe tbody tr th:only-of-type {\n",
       "        vertical-align: middle;\n",
       "    }\n",
       "\n",
       "    .dataframe tbody tr th {\n",
       "        vertical-align: top;\n",
       "    }\n",
       "\n",
       "    .dataframe thead th {\n",
       "        text-align: right;\n",
       "    }\n",
       "</style>\n",
       "<table border=\"1\" class=\"dataframe\">\n",
       "  <thead>\n",
       "    <tr style=\"text-align: right;\">\n",
       "      <th></th>\n",
       "      <th>Weeks</th>\n",
       "      <th>Total</th>\n",
       "    </tr>\n",
       "  </thead>\n",
       "  <tbody>\n",
       "    <tr>\n",
       "      <th>0</th>\n",
       "      <td>4</td>\n",
       "      <td>88</td>\n",
       "    </tr>\n",
       "    <tr>\n",
       "      <th>1</th>\n",
       "      <td>20</td>\n",
       "      <td>62</td>\n",
       "    </tr>\n",
       "    <tr>\n",
       "      <th>2</th>\n",
       "      <td>52</td>\n",
       "      <td>118</td>\n",
       "    </tr>\n",
       "    <tr>\n",
       "      <th>3</th>\n",
       "      <td>56</td>\n",
       "      <td>149</td>\n",
       "    </tr>\n",
       "    <tr>\n",
       "      <th>4</th>\n",
       "      <td>72</td>\n",
       "      <td>193</td>\n",
       "    </tr>\n",
       "    <tr>\n",
       "      <th>5</th>\n",
       "      <td>80</td>\n",
       "      <td>167</td>\n",
       "    </tr>\n",
       "    <tr>\n",
       "      <th>6</th>\n",
       "      <td>168</td>\n",
       "      <td>192</td>\n",
       "    </tr>\n",
       "    <tr>\n",
       "      <th>7</th>\n",
       "      <td>200</td>\n",
       "      <td>229</td>\n",
       "    </tr>\n",
       "    <tr>\n",
       "      <th>8</th>\n",
       "      <td>228</td>\n",
       "      <td>319</td>\n",
       "    </tr>\n",
       "    <tr>\n",
       "      <th>9</th>\n",
       "      <td>296</td>\n",
       "      <td>311</td>\n",
       "    </tr>\n",
       "    <tr>\n",
       "      <th>10</th>\n",
       "      <td>352</td>\n",
       "      <td>366</td>\n",
       "    </tr>\n",
       "    <tr>\n",
       "      <th>11</th>\n",
       "      <td>392</td>\n",
       "      <td>365</td>\n",
       "    </tr>\n",
       "    <tr>\n",
       "      <th>12</th>\n",
       "      <td>428</td>\n",
       "      <td>300</td>\n",
       "    </tr>\n",
       "    <tr>\n",
       "      <th>13</th>\n",
       "      <td>444</td>\n",
       "      <td>310</td>\n",
       "    </tr>\n",
       "    <tr>\n",
       "      <th>14</th>\n",
       "      <td>500</td>\n",
       "      <td>320</td>\n",
       "    </tr>\n",
       "  </tbody>\n",
       "</table>\n",
       "</div>"
      ],
      "text/plain": [
       "    Weeks  Total\n",
       "0       4     88\n",
       "1      20     62\n",
       "2      52    118\n",
       "3      56    149\n",
       "4      72    193\n",
       "5      80    167\n",
       "6     168    192\n",
       "7     200    229\n",
       "8     228    319\n",
       "9     296    311\n",
       "10    352    366\n",
       "11    392    365\n",
       "12    428    300\n",
       "13    444    310\n",
       "14    500    320"
      ]
     },
     "execution_count": 1,
     "metadata": {},
     "output_type": "execute_result"
    }
   ],
   "source": [
    "import pandas as pd\n",
    "\n",
    "df = pd.read_csv(\"sales.csv\")\n",
    "df"
   ]
  },
  {
   "cell_type": "code",
   "execution_count": 2,
   "id": "58aaabed",
   "metadata": {},
   "outputs": [
    {
     "name": "stdout",
     "output_type": "stream",
     "text": [
      "Intercept: 115.99\n",
      "Coefficients: 0.53\n"
     ]
    }
   ],
   "source": [
    "from sklearn.linear_model import LinearRegression\n",
    "\n",
    "\n",
    "X = df[['Weeks']]\n",
    "\n",
    "y = df['Total']\n",
    "\n",
    "model = LinearRegression()\n",
    "\n",
    "model.fit(X, y)\n",
    "\n",
    "print('Intercept:', round(model.intercept_,2))\n",
    "print('Coefficients:', round(model.coef_[0],2))"
   ]
  },
  {
   "cell_type": "code",
   "execution_count": 3,
   "id": "952ed8ce",
   "metadata": {},
   "outputs": [
    {
     "name": "stdout",
     "output_type": "stream",
     "text": [
      "MSE : 1915.78\n",
      "RMSE : 43.77\n",
      "MAE : 37\n"
     ]
    }
   ],
   "source": [
    "y_pred = model.predict(X)\n",
    "\n",
    "from sklearn.metrics import mean_squared_error\n",
    "from sklearn.metrics import mean_absolute_error\n",
    "from math import sqrt\n",
    "\n",
    "print ('MSE :', round(mean_squared_error (y_pred, y), 2))\n",
    "print ('RMSE :', round(sqrt(mean_squared_error (y_pred, y)), 2))\n",
    "print ('MAE :', round(mean_absolute_error(y_pred, y)))"
   ]
  },
  {
   "cell_type": "code",
   "execution_count": 5,
   "id": "9a8b512f",
   "metadata": {},
   "outputs": [
    {
     "data": {
      "image/png": "[encoded data removed]",
      "text/plain": [
       "<Figure size 640x480 with 1 Axes>"
      ]
     },
     "metadata": {},
     "output_type": "display_data"
    }
   ],
   "source": [
    "df['prediction'] = model.predict(X)\n",
    "\n",
    "import matplotlib.pyplot as plt\n",
    "\n",
    "xpoints = df['Weeks']\n",
    "ypoints = df['Total']\n",
    "ypredpoints = df['prediction']\n",
    "\n",
    "plt.scatter(xpoints, ypoints)\n",
    "plt.plot(xpoints, ypredpoints, color='green')\n",
    "\n",
    "plt.show()"
   ]
  },
  {
   "cell_type": "code",
   "execution_count": 6,
   "id": "7a4e4245",
   "metadata": {},
   "outputs": [
    {
     "name": "stdout",
     "output_type": "stream",
     "text": [
      "[[4.00000e+00 1.60000e+01]\n",
      " [2.00000e+01 4.00000e+02]\n",
      " [5.20000e+01 2.70400e+03]\n",
      " [5.60000e+01 3.13600e+03]\n",
      " [7.20000e+01 5.18400e+03]\n",
      " [8.00000e+01 6.40000e+03]\n",
      " [1.68000e+02 2.82240e+04]\n",
      " [2.00000e+02 4.00000e+04]\n",
      " [2.28000e+02 5.19840e+04]\n",
      " [2.96000e+02 8.76160e+04]\n",
      " [3.52000e+02 1.23904e+05]\n",
      " [3.92000e+02 1.53664e+05]\n",
      " [4.28000e+02 1.83184e+05]\n",
      " [4.44000e+02 1.97136e+05]\n",
      " [5.00000e+02 2.50000e+05]]\n"
     ]
    }
   ],
   "source": [
    "from sklearn.preprocessing import PolynomialFeatures\n",
    "\n",
    "polynomial = PolynomialFeatures(degree=2, include_bias=False)\n",
    "\n",
    "XNew = polynomial.fit_transform(X)\n",
    "print(XNew)"
   ]
  },
  {
   "cell_type": "code",
   "execution_count": 7,
   "id": "4f933812",
   "metadata": {},
   "outputs": [
    {
     "name": "stdout",
     "output_type": "stream",
     "text": [
      "Intercept: 65.98710740550425\n",
      "Coefficients: [ 1.33308721 -0.00166673]\n"
     ]
    }
   ],
   "source": [
    "model2 = LinearRegression()\n",
    "\n",
    "model2.fit(XNew, y)\n",
    "\n",
    "print('Intercept:', model2.intercept_)\n",
    "print('Coefficients:', model2.coef_)"
   ]
  },
  {
   "cell_type": "code",
   "execution_count": 8,
   "id": "adc5ba0f",
   "metadata": {},
   "outputs": [
    {
     "name": "stdout",
     "output_type": "stream",
     "text": [
      "MSE : 812.28\n",
      "RMSE : 28.5\n",
      "MAE : 25\n"
     ]
    }
   ],
   "source": [
    "y_pred2 = model2.predict(XNew)\n",
    "\n",
    "\n",
    "print ('MSE :', round(mean_squared_error (y_pred2, y), 2))\n",
    "print ('RMSE :', round(sqrt(mean_squared_error (y_pred2, y)), 2))\n",
    "print ('MAE :', round(mean_absolute_error(y_pred2, y)))"
   ]
  },
  {
   "cell_type": "code",
   "execution_count": 9,
   "id": "bf47b3f3",
   "metadata": {},
   "outputs": [
    {
     "data": {
      "image/png": "[encoded data removed]",
      "text/plain": [
       "<Figure size 640x480 with 1 Axes>"
      ]
     },
     "metadata": {},
     "output_type": "display_data"
    }
   ],
   "source": [
    "df['non-linear-prediction'] = model2.predict(XNew)\n",
    "\n",
    "xpoints = df['Weeks']\n",
    "ypoints = df['Total']\n",
    "ypredpoints2 = df['non-linear-prediction']\n",
    "\n",
    "plt.plot(xpoints, ypredpoints2, color='red')\n",
    "plt.scatter(xpoints, ypoints)\n",
    "plt.show()"
   ]
  },
  {
   "cell_type": "code",
   "execution_count": 10,
   "id": "70cbb919",
   "metadata": {},
   "outputs": [
    {
     "name": "stdout",
     "output_type": "stream",
     "text": [
      "[294.99802584]\n"
     ]
    }
   ],
   "source": [
    "weeks= [[550]]\n",
    "\n",
    "weeksNew = polynomial.fit_transform(weeks)\n",
    "\n",
    "ypred = model2.predict(weeksNew)\n",
    "print(ypred)"
   ]
  },
  {
   "cell_type": "code",
   "execution_count": 11,
   "id": "510a1129",
   "metadata": {},
   "outputs": [
    {
     "name": "stdout",
     "output_type": "stream",
     "text": [
      "294.9980258431394\n"
     ]
    }
   ],
   "source": [
    "ypred = model2.intercept_ + model2.coef_[0]*weeks[0][0] + model2.coef_[1]*weeks[0][0]*weeks[0][0]\n",
    "print(ypred)"
   ]
  }
 ],
 "metadata": {
  "kernelspec": {
   "display_name": "Python 3 (ipykernel)",
   "language": "python",
   "name": "python3"
  },
  "language_info": {
   "codemirror_mode": {
    "name": "ipython",
    "version": 3
   },
   "file_extension": ".py",
   "mimetype": "text/x-python",
   "name": "python",
   "nbconvert_exporter": "python",
   "pygments_lexer": "ipython3",
   "version": "3.10.9"
  }
 },
 "nbformat": 4,
 "nbformat_minor": 5
}
