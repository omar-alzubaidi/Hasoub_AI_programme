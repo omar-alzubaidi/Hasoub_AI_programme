{
 "cells": [
  {
   "cell_type": "code",
   "execution_count": 1,
   "metadata": {},
   "outputs": [
    {
     "name": "stdout",
     "output_type": "stream",
     "text": [
      "Training Time on CPU: 6441.2713 seconds\n",
      "Training Time on GPU: 5546.3906 seconds\n"
     ]
    }
   ],
   "source": [
    "import tensorflow as tf\n",
    "from keras.models import Sequential\n",
    "from keras.layers import Input, Dense\n",
    "import numpy as np\n",
    "import time\n",
    "\n",
    "model = Sequential()\n",
    "\n",
    "model.add(Input(shape=(10,)))\n",
    "\n",
    "model.add(Dense(units=64, activation='relu'))\n",
    "model.add(Dense(units=128, activation='relu'))\n",
    "model.add(Dense(units=256, activation='relu'))\n",
    "model.add(Dense(units=128, activation='relu'))\n",
    "model.add(Dense(units=64, activation='relu'))\n",
    "\n",
    "model.add(Dense(units=1, activation='sigmoid'))\n",
    "\n",
    "\n",
    "model.compile(optimizer='adam', loss='binary_crossentropy', metrics=['accuracy'])\n",
    "\n",
    "\n",
    "x_train = np.random.rand(10000, 10)\n",
    "y_train = np.random.randint(2, size=(10000, 1))\n",
    "\n",
    "epochs = 10000\n",
    "batch_size = 32\n",
    "\n",
    "start_cpu = time.time()\n",
    "with tf.device('/CPU:0'):\n",
    "    model.fit(x=x_train, y=y_train, epochs=epochs, batch_size=batch_size, verbose=0)\n",
    "end_cpu = time.time()\n",
    "cpu_time = end_cpu - start_cpu\n",
    "\n",
    "# Train on GPU\n",
    "start_gpu = time.time()\n",
    "with tf.device('/GPU:0'):\n",
    "    model.fit(x=x_train, y=y_train, epochs=epochs, batch_size=batch_size, verbose=0)\n",
    "end_gpu = time.time()\n",
    "gpu_time = end_gpu - start_gpu\n",
    "\n",
    "print('Training Time on CPU: {:.4f} seconds'.format(cpu_time))\n",
    "print('Training Time on GPU: {:.4f} seconds'.format(gpu_time))"
   ]
  }
 ],
 "metadata": {
  "kernelspec": {
   "display_name": "Python 3 (ipykernel)",
   "language": "python",
   "name": "python3"
  },
  "language_info": {
   "codemirror_mode": {
    "name": "ipython",
    "version": 3
   },
   "file_extension": ".py",
   "mimetype": "text/x-python",
   "name": "python",
   "nbconvert_exporter": "python",
   "pygments_lexer": "ipython3",
   "version": "3.11.5"
  }
 },
 "nbformat": 4,
 "nbformat_minor": 2
}
