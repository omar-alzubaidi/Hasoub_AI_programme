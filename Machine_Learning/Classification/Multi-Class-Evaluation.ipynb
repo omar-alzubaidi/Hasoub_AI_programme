{
 "cells": [
  {
   "cell_type": "code",
   "execution_count": 1,
   "id": "49f8680a",
   "metadata": {},
   "outputs": [
    {
     "name": "stdout",
     "output_type": "stream",
     "text": [
      "Confusion Matrix\n",
      "\n",
      "[[7 8 9]\n",
      " [1 2 3]\n",
      " [3 2 1]]\n"
     ]
    }
   ],
   "source": [
    "from sklearn.metrics import confusion_matrix\n",
    "\n",
    "\n",
    "actual = ['Truck','Truck','Truck','Truck','Truck','Truck','Truck','Truck','Truck','Truck','Truck','Plane','Plane','Plane',\n",
    "          'Plane','Plane','Plane','Plane','Plane','Plane','Plane','Plane','Plane','Boat','Boat','Boat','Boat','Boat','Boat',\n",
    "          'Boat','Boat','Boat','Boat','Boat','Boat','Boat']\n",
    "\n",
    "predicted = ['Truck','Truck','Truck','Truck','Truck','Truck','Truck','Plane','Boat','Boat','Boat','Truck','Truck','Truck',\n",
    "             'Truck','Truck','Truck','Truck','Truck','Plane','Plane','Boat','Boat','Truck','Truck','Truck','Truck','Truck',\n",
    "             'Truck','Truck','Truck','Truck','Plane','Plane','Plane','Boat']\n",
    "\n",
    "\n",
    "for i in range(len(actual)):\n",
    "    if actual[i]=='Truck':\n",
    "        actual[i]=0\n",
    "    \n",
    "    elif actual[i]=='Plane':\n",
    "        actual[i]=1\n",
    "    \n",
    "    else:\n",
    "        actual[i]=2\n",
    "for i in range(len(predicted)):\n",
    "    if predicted[i]=='Truck':\n",
    "        predicted[i]=0\n",
    "    \n",
    "    elif predicted[i]=='Plane':\n",
    "        predicted[i]=1\n",
    "    \n",
    "    else:\n",
    "        predicted[i]=2\n",
    "\n",
    "cf_matrix = confusion_matrix(predicted,actual)\n",
    "print('Confusion Matrix\\n')\n",
    "print(cf_matrix)"
   ]
  },
  {
   "cell_type": "code",
   "execution_count": 2,
   "id": "8782b00c",
   "metadata": {},
   "outputs": [
    {
     "data": {
      "text/plain": [
       "<AxesSubplot: >"
      ]
     },
     "execution_count": 2,
     "metadata": {},
     "output_type": "execute_result"
    },
    {
     "data": {
      "image/png": "[encoded data removed]",
      "text/plain": [
       "<Figure size 640x480 with 2 Axes>"
      ]
     },
     "metadata": {},
     "output_type": "display_data"
    }
   ],
   "source": [
    "import seaborn as sns\n",
    "sns.heatmap(cf_matrix, annot=True)"
   ]
  },
  {
   "cell_type": "code",
   "execution_count": 3,
   "id": "3c258a5d",
   "metadata": {},
   "outputs": [
    {
     "name": "stdout",
     "output_type": "stream",
     "text": [
      "Accuracy: 0.28\n"
     ]
    }
   ],
   "source": [
    "from sklearn.metrics import accuracy_score\n",
    "print('Accuracy: {:.2f}'.format(accuracy_score(actual, predicted)))"
   ]
  },
  {
   "cell_type": "code",
   "execution_count": 4,
   "id": "294ed1e6",
   "metadata": {},
   "outputs": [
    {
     "name": "stdout",
     "output_type": "stream",
     "text": [
      "0.2777777777777778\n",
      "Micro Precision: 0.28\n",
      "Micro Recall: 0.28\n",
      "Micro F1-score: 0.28\n",
      "\n",
      "Macro Precision: 0.26\n",
      "Macro Recall: 0.29\n",
      "Macro F1-score: 0.24\n",
      "\n",
      "Weighted Precision: 0.26\n",
      "Weighted Recall: 0.28\n",
      "Weighted F1-score: 0.23\n"
     ]
    }
   ],
   "source": [
    "from sklearn.metrics import accuracy_score, precision_score, recall_score, f1_score\n",
    "print(accuracy_score(actual,predicted))\n",
    "\n",
    "print('Micro Precision: {:.2f}'.format(precision_score(actual, predicted, average='micro')))\n",
    "print('Micro Recall: {:.2f}'.format(recall_score(actual, predicted, average='micro')))\n",
    "print('Micro F1-score: {:.2f}\\n'.format(f1_score(actual, predicted, average='micro')))\n",
    "\n",
    "print('Macro Precision: {:.2f}'.format(precision_score(actual,predicted, average='macro')))\n",
    "print('Macro Recall: {:.2f}'.format(recall_score(actual, predicted, average='macro')))\n",
    "print('Macro F1-score: {:.2f}\\n'.format(f1_score(actual, predicted, average='macro')))\n",
    "\n",
    "print('Weighted Precision: {:.2f}'.format(precision_score(actual,predicted, average='weighted')))\n",
    "print('Weighted Recall: {:.2f}'.format(recall_score(actual,predicted, average='weighted')))\n",
    "print('Weighted F1-score: {:.2f}'.format(f1_score(actual,predicted, average='weighted')))"
   ]
  },
  {
   "cell_type": "code",
   "execution_count": 5,
   "id": "93213350",
   "metadata": {},
   "outputs": [
    {
     "name": "stdout",
     "output_type": "stream",
     "text": [
      "\n",
      "Classification Report\n",
      "\n",
      "              precision    recall  f1-score   support\n",
      "\n",
      "       Truck       0.29      0.64      0.40        11\n",
      "       Plane       0.33      0.17      0.22        12\n",
      "        Boat       0.17      0.08      0.11        13\n",
      "\n",
      "    accuracy                           0.28        36\n",
      "   macro avg       0.26      0.29      0.24        36\n",
      "weighted avg       0.26      0.28      0.23        36\n",
      "\n"
     ]
    }
   ],
   "source": [
    "from sklearn.metrics import classification_report\n",
    "\n",
    "print('\\nClassification Report\\n')\n",
    "print(classification_report(actual, predicted, target_names=['Truck', 'Plane', 'Boat']))"
   ]
  }
 ],
 "metadata": {
  "kernelspec": {
   "display_name": "Python 3 (ipykernel)",
   "language": "python",
   "name": "python3"
  },
  "language_info": {
   "codemirror_mode": {
    "name": "ipython",
    "version": 3
   },
   "file_extension": ".py",
   "mimetype": "text/x-python",
   "name": "python",
   "nbconvert_exporter": "python",
   "pygments_lexer": "ipython3",
   "version": "3.10.9"
  }
 },
 "nbformat": 4,
 "nbformat_minor": 5
}
