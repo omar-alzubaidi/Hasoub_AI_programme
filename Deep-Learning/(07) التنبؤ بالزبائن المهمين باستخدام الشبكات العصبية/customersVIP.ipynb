{
 "cells": [
  {
   "cell_type": "code",
   "execution_count": 1,
   "id": "c2d712c9",
   "metadata": {},
   "outputs": [
    {
     "data": {
      "text/html": [
       "<div>\n",
       "<style scoped>\n",
       "    .dataframe tbody tr th:only-of-type {\n",
       "        vertical-align: middle;\n",
       "    }\n",
       "\n",
       "    .dataframe tbody tr th {\n",
       "        vertical-align: top;\n",
       "    }\n",
       "\n",
       "    .dataframe thead th {\n",
       "        text-align: right;\n",
       "    }\n",
       "</style>\n",
       "<table border=\"1\" class=\"dataframe\">\n",
       "  <thead>\n",
       "    <tr style=\"text-align: right;\">\n",
       "      <th></th>\n",
       "      <th>age</th>\n",
       "      <th>job</th>\n",
       "      <th>marital</th>\n",
       "      <th>education</th>\n",
       "      <th>default</th>\n",
       "      <th>balance</th>\n",
       "      <th>housing</th>\n",
       "      <th>loan</th>\n",
       "      <th>contact</th>\n",
       "      <th>day</th>\n",
       "      <th>month</th>\n",
       "      <th>duration</th>\n",
       "      <th>campaign</th>\n",
       "      <th>pdays</th>\n",
       "      <th>previous</th>\n",
       "      <th>poutcome</th>\n",
       "      <th>y</th>\n",
       "    </tr>\n",
       "  </thead>\n",
       "  <tbody>\n",
       "    <tr>\n",
       "      <th>0</th>\n",
       "      <td>58</td>\n",
       "      <td>management</td>\n",
       "      <td>married</td>\n",
       "      <td>tertiary</td>\n",
       "      <td>no</td>\n",
       "      <td>2143</td>\n",
       "      <td>yes</td>\n",
       "      <td>no</td>\n",
       "      <td>unknown</td>\n",
       "      <td>5</td>\n",
       "      <td>may</td>\n",
       "      <td>261</td>\n",
       "      <td>1</td>\n",
       "      <td>-1</td>\n",
       "      <td>0</td>\n",
       "      <td>unknown</td>\n",
       "      <td>no</td>\n",
       "    </tr>\n",
       "    <tr>\n",
       "      <th>1</th>\n",
       "      <td>44</td>\n",
       "      <td>technician</td>\n",
       "      <td>single</td>\n",
       "      <td>secondary</td>\n",
       "      <td>no</td>\n",
       "      <td>29</td>\n",
       "      <td>yes</td>\n",
       "      <td>no</td>\n",
       "      <td>unknown</td>\n",
       "      <td>5</td>\n",
       "      <td>may</td>\n",
       "      <td>151</td>\n",
       "      <td>1</td>\n",
       "      <td>-1</td>\n",
       "      <td>0</td>\n",
       "      <td>unknown</td>\n",
       "      <td>no</td>\n",
       "    </tr>\n",
       "    <tr>\n",
       "      <th>2</th>\n",
       "      <td>33</td>\n",
       "      <td>entrepreneur</td>\n",
       "      <td>married</td>\n",
       "      <td>secondary</td>\n",
       "      <td>no</td>\n",
       "      <td>2</td>\n",
       "      <td>yes</td>\n",
       "      <td>yes</td>\n",
       "      <td>unknown</td>\n",
       "      <td>5</td>\n",
       "      <td>may</td>\n",
       "      <td>76</td>\n",
       "      <td>1</td>\n",
       "      <td>-1</td>\n",
       "      <td>0</td>\n",
       "      <td>unknown</td>\n",
       "      <td>no</td>\n",
       "    </tr>\n",
       "    <tr>\n",
       "      <th>3</th>\n",
       "      <td>47</td>\n",
       "      <td>blue-collar</td>\n",
       "      <td>married</td>\n",
       "      <td>unknown</td>\n",
       "      <td>no</td>\n",
       "      <td>1506</td>\n",
       "      <td>yes</td>\n",
       "      <td>no</td>\n",
       "      <td>unknown</td>\n",
       "      <td>5</td>\n",
       "      <td>may</td>\n",
       "      <td>92</td>\n",
       "      <td>1</td>\n",
       "      <td>-1</td>\n",
       "      <td>0</td>\n",
       "      <td>unknown</td>\n",
       "      <td>no</td>\n",
       "    </tr>\n",
       "    <tr>\n",
       "      <th>4</th>\n",
       "      <td>33</td>\n",
       "      <td>unknown</td>\n",
       "      <td>single</td>\n",
       "      <td>unknown</td>\n",
       "      <td>no</td>\n",
       "      <td>1</td>\n",
       "      <td>no</td>\n",
       "      <td>no</td>\n",
       "      <td>unknown</td>\n",
       "      <td>5</td>\n",
       "      <td>may</td>\n",
       "      <td>198</td>\n",
       "      <td>1</td>\n",
       "      <td>-1</td>\n",
       "      <td>0</td>\n",
       "      <td>unknown</td>\n",
       "      <td>no</td>\n",
       "    </tr>\n",
       "  </tbody>\n",
       "</table>\n",
       "</div>"
      ],
      "text/plain": [
       "   age           job  marital  education default  balance housing loan  \\\n",
       "0   58    management  married   tertiary      no     2143     yes   no   \n",
       "1   44    technician   single  secondary      no       29     yes   no   \n",
       "2   33  entrepreneur  married  secondary      no        2     yes  yes   \n",
       "3   47   blue-collar  married    unknown      no     1506     yes   no   \n",
       "4   33       unknown   single    unknown      no        1      no   no   \n",
       "\n",
       "   contact  day month  duration  campaign  pdays  previous poutcome   y  \n",
       "0  unknown    5   may       261         1     -1         0  unknown  no  \n",
       "1  unknown    5   may       151         1     -1         0  unknown  no  \n",
       "2  unknown    5   may        76         1     -1         0  unknown  no  \n",
       "3  unknown    5   may        92         1     -1         0  unknown  no  \n",
       "4  unknown    5   may       198         1     -1         0  unknown  no  "
      ]
     },
     "execution_count": 1,
     "metadata": {},
     "output_type": "execute_result"
    }
   ],
   "source": [
    "import numpy as np\n",
    "import pandas as pd\n",
    "\n",
    "df = pd.read_csv('customers.csv')\n",
    "df.head()"
   ]
  },
  {
   "cell_type": "code",
   "execution_count": 2,
   "id": "ecf2955a",
   "metadata": {},
   "outputs": [
    {
     "name": "stdout",
     "output_type": "stream",
     "text": [
      "<class 'pandas.core.frame.DataFrame'>\n",
      "RangeIndex: 45211 entries, 0 to 45210\n",
      "Data columns (total 17 columns):\n",
      " #   Column     Non-Null Count  Dtype \n",
      "---  ------     --------------  ----- \n",
      " 0   age        45211 non-null  int64 \n",
      " 1   job        45211 non-null  object\n",
      " 2   marital    45211 non-null  object\n",
      " 3   education  45211 non-null  object\n",
      " 4   default    45211 non-null  object\n",
      " 5   balance    45211 non-null  int64 \n",
      " 6   housing    45211 non-null  object\n",
      " 7   loan       45211 non-null  object\n",
      " 8   contact    45211 non-null  object\n",
      " 9   day        45211 non-null  int64 \n",
      " 10  month      45211 non-null  object\n",
      " 11  duration   45211 non-null  int64 \n",
      " 12  campaign   45211 non-null  int64 \n",
      " 13  pdays      45211 non-null  int64 \n",
      " 14  previous   45211 non-null  int64 \n",
      " 15  poutcome   45211 non-null  object\n",
      " 16  y          45211 non-null  object\n",
      "dtypes: int64(7), object(10)\n",
      "memory usage: 5.9+ MB\n"
     ]
    }
   ],
   "source": [
    "df.info()"
   ]
  },
  {
   "cell_type": "code",
   "execution_count": 3,
   "id": "cdcf6aa5",
   "metadata": {},
   "outputs": [
    {
     "data": {
      "text/plain": [
       "y\n",
       "no     39922\n",
       "yes     5289\n",
       "Name: count, dtype: int64"
      ]
     },
     "execution_count": 3,
     "metadata": {},
     "output_type": "execute_result"
    }
   ],
   "source": [
    "value_counts = df['y'].value_counts()\n",
    "value_counts"
   ]
  },
  {
   "cell_type": "code",
   "execution_count": 4,
   "id": "b43752a3",
   "metadata": {},
   "outputs": [],
   "source": [
    "from imblearn.over_sampling import RandomOverSampler\n",
    "\n",
    "input_columns = df.drop('y', axis=1)  \n",
    "\n",
    "class_column = df['y']\n",
    "\n",
    "oversampler = RandomOverSampler(random_state=0)\n",
    "\n",
    "input_columns_resampled, class_column_resampled = oversampler.fit_resample(input_columns, class_column)\n",
    "\n",
    "df = pd.concat([input_columns_resampled, class_column_resampled], axis=1)"
   ]
  },
  {
   "cell_type": "code",
   "execution_count": 5,
   "id": "3610a780",
   "metadata": {},
   "outputs": [
    {
     "data": {
      "text/plain": [
       "y\n",
       "no     39922\n",
       "yes    39922\n",
       "Name: count, dtype: int64"
      ]
     },
     "execution_count": 5,
     "metadata": {},
     "output_type": "execute_result"
    }
   ],
   "source": [
    "class_distribution = df['y'].value_counts()\n",
    "class_distribution"
   ]
  },
  {
   "cell_type": "code",
   "execution_count": 6,
   "id": "0a6e5032",
   "metadata": {},
   "outputs": [],
   "source": [
    "X = df.iloc[:,0:16].values\n",
    "\n",
    "y = df.iloc[:,-1]"
   ]
  },
  {
   "cell_type": "code",
   "execution_count": 7,
   "id": "81cf0f1c",
   "metadata": {},
   "outputs": [],
   "source": [
    "from sklearn.preprocessing import LabelEncoder\n",
    "\n",
    "labelencoder_y = LabelEncoder()\n",
    "\n",
    "y = labelencoder_y.fit_transform(y)"
   ]
  },
  {
   "cell_type": "code",
   "execution_count": 8,
   "id": "ddcea71d",
   "metadata": {},
   "outputs": [
    {
     "name": "stdout",
     "output_type": "stream",
     "text": [
      "[0 0 0 ... 1 1 1]\n"
     ]
    }
   ],
   "source": [
    "print(y)"
   ]
  },
  {
   "cell_type": "code",
   "execution_count": 9,
   "id": "65f8a6e6",
   "metadata": {},
   "outputs": [
    {
     "name": "stdout",
     "output_type": "stream",
     "text": [
      "['admin.' 'blue-collar' 'entrepreneur' 'housemaid' 'management' 'retired'\n",
      " 'self-employed' 'services' 'student' 'technician' 'unemployed' 'unknown']\n"
     ]
    }
   ],
   "source": [
    "X_job = X[:,[1]]\n",
    "print(np.unique(X_job))"
   ]
  },
  {
   "cell_type": "code",
   "execution_count": 10,
   "id": "c99e8d88",
   "metadata": {},
   "outputs": [
    {
     "name": "stdout",
     "output_type": "stream",
     "text": [
      "(79844, 12)\n"
     ]
    }
   ],
   "source": [
    "from sklearn.preprocessing import OneHotEncoder\n",
    "from sklearn.compose import ColumnTransformer\n",
    "\n",
    "ct = ColumnTransformer(transformers=[('encoder', OneHotEncoder(), [0])],\n",
    "                       sparse_threshold=0)\n",
    "\n",
    "X_job = ct.fit_transform(X_job)\n",
    "\n",
    "print(X_job.shape)"
   ]
  },
  {
   "cell_type": "code",
   "execution_count": 11,
   "id": "78a9b827",
   "metadata": {},
   "outputs": [
    {
     "name": "stdout",
     "output_type": "stream",
     "text": [
      "[[0. 0. 0. ... 0. 0. 0.]\n",
      " [0. 0. 0. ... 1. 0. 0.]\n",
      " [0. 0. 1. ... 0. 0. 0.]\n",
      " ...\n",
      " [0. 0. 0. ... 1. 0. 0.]\n",
      " [0. 0. 0. ... 0. 0. 0.]\n",
      " [0. 0. 1. ... 0. 0. 0.]]\n"
     ]
    }
   ],
   "source": [
    "print(X_job)"
   ]
  },
  {
   "cell_type": "code",
   "execution_count": 12,
   "id": "995006e8",
   "metadata": {},
   "outputs": [],
   "source": [
    "X_cat = X[:,[1, 2, 3, 4, 6, 7, 8, 10, 15]]"
   ]
  },
  {
   "cell_type": "code",
   "execution_count": 13,
   "id": "a4de2454",
   "metadata": {},
   "outputs": [
    {
     "data": {
      "text/plain": [
       "(79844, 9)"
      ]
     },
     "execution_count": 13,
     "metadata": {},
     "output_type": "execute_result"
    }
   ],
   "source": [
    "X_cat.shape"
   ]
  },
  {
   "cell_type": "code",
   "execution_count": 14,
   "id": "e20d858c",
   "metadata": {},
   "outputs": [],
   "source": [
    "orginalNumOfCols = X_cat.shape[1]\n",
    "\n",
    "for i in range(X_cat.shape[1]): \n",
    "    \n",
    "    currNumOfCols = X_cat.shape[1]\n",
    "    \n",
    "    indexOfColumnToEncode = currNumOfCols - orginalNumOfCols + i\n",
    "    \n",
    "    ct = ColumnTransformer(transformers=\n",
    "                            [('encoder', \n",
    "                              OneHotEncoder(), [indexOfColumnToEncode])], \n",
    "                           remainder='passthrough', \n",
    "                           sparse_threshold=0)\n",
    "    \n",
    "    X_cat = ct.fit_transform(X_cat)"
   ]
  },
  {
   "cell_type": "code",
   "execution_count": 15,
   "id": "8cc98f92",
   "metadata": {},
   "outputs": [
    {
     "data": {
      "text/plain": [
       "(79844, 44)"
      ]
     },
     "execution_count": 15,
     "metadata": {},
     "output_type": "execute_result"
    }
   ],
   "source": [
    "X_cat.shape"
   ]
  },
  {
   "cell_type": "code",
   "execution_count": 16,
   "id": "93054d07",
   "metadata": {},
   "outputs": [],
   "source": [
    "X_num = X[:,[0, 5, 9, 11, 12, 13, 14]]\n",
    "\n",
    "X = np.concatenate((X_num,X_cat), axis=1)"
   ]
  },
  {
   "cell_type": "code",
   "execution_count": 17,
   "id": "d40aea35",
   "metadata": {},
   "outputs": [],
   "source": [
    "from sklearn.model_selection import train_test_split\n",
    "\n",
    "X_train, X_test, y_train, y_test = train_test_split(X, y, random_state = 0)"
   ]
  },
  {
   "cell_type": "code",
   "execution_count": 18,
   "id": "7491239e",
   "metadata": {},
   "outputs": [],
   "source": [
    "from sklearn.preprocessing import StandardScaler\n",
    "\n",
    "sc = StandardScaler()\n",
    "X_train = sc.fit_transform(X_train)\n",
    "X_test = sc.transform(X_test)"
   ]
  },
  {
   "cell_type": "code",
   "execution_count": 19,
   "id": "c06cf026",
   "metadata": {},
   "outputs": [
    {
     "name": "stdout",
     "output_type": "stream",
     "text": [
      "Epoch 1/100\n",
      "1872/1872 [==============================] - 4s 2ms/step - loss: 0.3408 - accuracy: 0.8563 - val_loss: 0.3088 - val_accuracy: 0.8722\n",
      "Epoch 2/100\n",
      "1872/1872 [==============================] - 3s 2ms/step - loss: 0.2888 - accuracy: 0.8829 - val_loss: 0.2909 - val_accuracy: 0.8807\n",
      "Epoch 3/100\n",
      "1872/1872 [==============================] - 3s 2ms/step - loss: 0.2658 - accuracy: 0.8937 - val_loss: 0.2770 - val_accuracy: 0.8901\n",
      "Epoch 4/100\n",
      "1872/1872 [==============================] - 3s 2ms/step - loss: 0.2481 - accuracy: 0.9024 - val_loss: 0.2673 - val_accuracy: 0.8979\n",
      "Epoch 5/100\n",
      "1872/1872 [==============================] - 3s 2ms/step - loss: 0.2324 - accuracy: 0.9096 - val_loss: 0.2615 - val_accuracy: 0.8952\n",
      "Epoch 6/100\n",
      "1872/1872 [==============================] - 3s 2ms/step - loss: 0.2177 - accuracy: 0.9171 - val_loss: 0.2507 - val_accuracy: 0.9072\n",
      "Epoch 7/100\n",
      "1872/1872 [==============================] - 3s 2ms/step - loss: 0.2049 - accuracy: 0.9216 - val_loss: 0.2581 - val_accuracy: 0.9014\n",
      "Epoch 8/100\n",
      "1872/1872 [==============================] - 3s 2ms/step - loss: 0.1921 - accuracy: 0.9268 - val_loss: 0.2426 - val_accuracy: 0.9095\n",
      "Epoch 9/100\n",
      "1872/1872 [==============================] - 3s 2ms/step - loss: 0.1820 - accuracy: 0.9310 - val_loss: 0.2376 - val_accuracy: 0.9163\n",
      "Epoch 10/100\n",
      "1872/1872 [==============================] - 3s 2ms/step - loss: 0.1721 - accuracy: 0.9354 - val_loss: 0.2363 - val_accuracy: 0.9168\n",
      "Epoch 11/100\n",
      "1872/1872 [==============================] - 3s 2ms/step - loss: 0.1626 - accuracy: 0.9386 - val_loss: 0.2350 - val_accuracy: 0.9191\n",
      "Epoch 12/100\n",
      "1872/1872 [==============================] - 3s 2ms/step - loss: 0.1538 - accuracy: 0.9430 - val_loss: 0.2265 - val_accuracy: 0.9228\n",
      "Epoch 13/100\n",
      "1872/1872 [==============================] - 3s 2ms/step - loss: 0.1481 - accuracy: 0.9453 - val_loss: 0.2239 - val_accuracy: 0.9256\n",
      "Epoch 14/100\n",
      "1872/1872 [==============================] - 3s 2ms/step - loss: 0.1423 - accuracy: 0.9475 - val_loss: 0.2298 - val_accuracy: 0.9236\n",
      "Epoch 15/100\n",
      "1872/1872 [==============================] - 3s 2ms/step - loss: 0.1363 - accuracy: 0.9504 - val_loss: 0.2210 - val_accuracy: 0.9305\n",
      "Epoch 16/100\n",
      "1872/1872 [==============================] - 3s 2ms/step - loss: 0.1268 - accuracy: 0.9544 - val_loss: 0.2361 - val_accuracy: 0.9271\n",
      "Epoch 17/100\n",
      "1872/1872 [==============================] - 3s 1ms/step - loss: 0.1223 - accuracy: 0.9553 - val_loss: 0.2393 - val_accuracy: 0.9260\n",
      "Epoch 18/100\n",
      "1872/1872 [==============================] - 3s 2ms/step - loss: 0.1183 - accuracy: 0.9575 - val_loss: 0.2326 - val_accuracy: 0.9298\n",
      "Epoch 19/100\n",
      "1872/1872 [==============================] - 3s 2ms/step - loss: 0.1115 - accuracy: 0.9595 - val_loss: 0.2284 - val_accuracy: 0.9314\n",
      "Epoch 20/100\n",
      "1872/1872 [==============================] - 3s 2ms/step - loss: 0.1071 - accuracy: 0.9615 - val_loss: 0.2556 - val_accuracy: 0.9279\n",
      "Epoch 21/100\n",
      "1872/1872 [==============================] - 3s 2ms/step - loss: 0.1045 - accuracy: 0.9622 - val_loss: 0.2415 - val_accuracy: 0.9328\n",
      "Epoch 22/100\n",
      "1872/1872 [==============================] - 3s 2ms/step - loss: 0.0993 - accuracy: 0.9641 - val_loss: 0.2407 - val_accuracy: 0.9331\n",
      "Epoch 23/100\n",
      "1872/1872 [==============================] - 3s 2ms/step - loss: 0.0975 - accuracy: 0.9645 - val_loss: 0.2444 - val_accuracy: 0.9343\n",
      "Epoch 24/100\n",
      "1872/1872 [==============================] - 3s 2ms/step - loss: 0.0899 - accuracy: 0.9680 - val_loss: 0.2284 - val_accuracy: 0.9341\n",
      "Epoch 25/100\n",
      "1872/1872 [==============================] - 3s 2ms/step - loss: 0.0884 - accuracy: 0.9682 - val_loss: 0.2534 - val_accuracy: 0.9319\n",
      "Epoch 26/100\n",
      "1872/1872 [==============================] - 3s 2ms/step - loss: 0.0872 - accuracy: 0.9677 - val_loss: 0.2583 - val_accuracy: 0.9362\n",
      "Epoch 27/100\n",
      "1872/1872 [==============================] - 3s 2ms/step - loss: 0.0845 - accuracy: 0.9699 - val_loss: 0.2427 - val_accuracy: 0.9373\n",
      "Epoch 28/100\n",
      "1872/1872 [==============================] - 3s 2ms/step - loss: 0.0810 - accuracy: 0.9714 - val_loss: 0.2458 - val_accuracy: 0.9346\n",
      "Epoch 29/100\n",
      "1872/1872 [==============================] - 3s 2ms/step - loss: 0.0780 - accuracy: 0.9726 - val_loss: 0.2986 - val_accuracy: 0.9326\n",
      "Epoch 30/100\n",
      "1872/1872 [==============================] - 3s 2ms/step - loss: 0.0751 - accuracy: 0.9733 - val_loss: 0.2523 - val_accuracy: 0.9404\n",
      "Epoch 31/100\n",
      "1872/1872 [==============================] - 3s 2ms/step - loss: 0.0745 - accuracy: 0.9737 - val_loss: 0.2808 - val_accuracy: 0.9387\n",
      "Epoch 32/100\n",
      "1872/1872 [==============================] - 3s 2ms/step - loss: 0.0699 - accuracy: 0.9754 - val_loss: 0.2863 - val_accuracy: 0.9403\n",
      "Epoch 33/100\n",
      "1872/1872 [==============================] - 3s 2ms/step - loss: 0.0664 - accuracy: 0.9766 - val_loss: 0.2638 - val_accuracy: 0.9416\n",
      "Epoch 34/100\n",
      "1872/1872 [==============================] - 3s 2ms/step - loss: 0.0676 - accuracy: 0.9755 - val_loss: 0.2604 - val_accuracy: 0.9419\n",
      "Epoch 35/100\n",
      "1872/1872 [==============================] - 3s 2ms/step - loss: 0.0657 - accuracy: 0.9764 - val_loss: 0.2848 - val_accuracy: 0.9405\n",
      "Epoch 36/100\n",
      "1872/1872 [==============================] - 3s 2ms/step - loss: 0.0651 - accuracy: 0.9775 - val_loss: 0.2774 - val_accuracy: 0.9439\n",
      "Epoch 37/100\n",
      "1872/1872 [==============================] - 3s 2ms/step - loss: 0.0625 - accuracy: 0.9783 - val_loss: 0.2757 - val_accuracy: 0.9402\n",
      "Epoch 38/100\n",
      "1872/1872 [==============================] - 3s 2ms/step - loss: 0.0628 - accuracy: 0.9778 - val_loss: 0.2865 - val_accuracy: 0.9423\n",
      "Epoch 39/100\n",
      "1872/1872 [==============================] - 3s 2ms/step - loss: 0.0594 - accuracy: 0.9798 - val_loss: 0.2804 - val_accuracy: 0.9441\n",
      "Epoch 40/100\n",
      "1872/1872 [==============================] - 3s 2ms/step - loss: 0.0559 - accuracy: 0.9806 - val_loss: 0.3103 - val_accuracy: 0.9416\n",
      "Epoch 41/100\n",
      "1872/1872 [==============================] - 3s 2ms/step - loss: 0.0580 - accuracy: 0.9799 - val_loss: 0.3248 - val_accuracy: 0.9404\n",
      "Epoch 42/100\n",
      "1872/1872 [==============================] - 3s 2ms/step - loss: 0.0571 - accuracy: 0.9799 - val_loss: 0.2867 - val_accuracy: 0.9459\n",
      "Epoch 43/100\n",
      "1872/1872 [==============================] - 3s 2ms/step - loss: 0.0542 - accuracy: 0.9815 - val_loss: 0.3031 - val_accuracy: 0.9461\n",
      "Epoch 44/100\n",
      "1872/1872 [==============================] - 3s 2ms/step - loss: 0.0524 - accuracy: 0.9822 - val_loss: 0.3124 - val_accuracy: 0.9382\n",
      "Epoch 45/100\n",
      "1872/1872 [==============================] - 3s 2ms/step - loss: 0.0544 - accuracy: 0.9811 - val_loss: 0.3121 - val_accuracy: 0.9437\n",
      "Epoch 46/100\n",
      "1872/1872 [==============================] - 3s 2ms/step - loss: 0.0491 - accuracy: 0.9824 - val_loss: 0.3110 - val_accuracy: 0.9476\n",
      "Epoch 47/100\n",
      "1872/1872 [==============================] - 3s 2ms/step - loss: 0.0516 - accuracy: 0.9821 - val_loss: 0.2959 - val_accuracy: 0.9494\n",
      "Epoch 48/100\n",
      "1872/1872 [==============================] - 3s 2ms/step - loss: 0.0501 - accuracy: 0.9827 - val_loss: 0.3054 - val_accuracy: 0.9445\n",
      "Epoch 49/100\n",
      "1872/1872 [==============================] - 3s 2ms/step - loss: 0.0493 - accuracy: 0.9831 - val_loss: 0.3026 - val_accuracy: 0.9483\n",
      "Epoch 50/100\n",
      "1872/1872 [==============================] - 3s 2ms/step - loss: 0.0483 - accuracy: 0.9834 - val_loss: 0.3303 - val_accuracy: 0.9450\n",
      "Epoch 51/100\n",
      "1872/1872 [==============================] - 3s 2ms/step - loss: 0.0468 - accuracy: 0.9842 - val_loss: 0.3240 - val_accuracy: 0.9431\n",
      "Epoch 52/100\n",
      "1872/1872 [==============================] - 3s 2ms/step - loss: 0.0453 - accuracy: 0.9842 - val_loss: 0.3743 - val_accuracy: 0.9361\n",
      "Epoch 53/100\n",
      "1872/1872 [==============================] - 3s 2ms/step - loss: 0.0446 - accuracy: 0.9846 - val_loss: 0.3639 - val_accuracy: 0.9393\n",
      "Epoch 54/100\n",
      "1872/1872 [==============================] - 3s 2ms/step - loss: 0.0453 - accuracy: 0.9848 - val_loss: 0.3544 - val_accuracy: 0.9432\n",
      "Epoch 55/100\n",
      "1872/1872 [==============================] - 3s 2ms/step - loss: 0.0466 - accuracy: 0.9851 - val_loss: 0.3069 - val_accuracy: 0.9489\n",
      "Epoch 56/100\n",
      "1872/1872 [==============================] - 3s 2ms/step - loss: 0.0412 - accuracy: 0.9860 - val_loss: 0.4124 - val_accuracy: 0.9420\n",
      "Epoch 57/100\n"
     ]
    },
    {
     "name": "stdout",
     "output_type": "stream",
     "text": [
      "1872/1872 [==============================] - 3s 2ms/step - loss: 0.0456 - accuracy: 0.9846 - val_loss: 0.3115 - val_accuracy: 0.9502\n",
      "Epoch 58/100\n",
      "1872/1872 [==============================] - 3s 2ms/step - loss: 0.0401 - accuracy: 0.9858 - val_loss: 0.3473 - val_accuracy: 0.9463\n",
      "Epoch 59/100\n",
      "1872/1872 [==============================] - 3s 2ms/step - loss: 0.0421 - accuracy: 0.9862 - val_loss: 0.3518 - val_accuracy: 0.9480\n",
      "Epoch 60/100\n",
      "1872/1872 [==============================] - 3s 2ms/step - loss: 0.0426 - accuracy: 0.9860 - val_loss: 0.3584 - val_accuracy: 0.9458\n",
      "Epoch 61/100\n",
      "1872/1872 [==============================] - 3s 2ms/step - loss: 0.0368 - accuracy: 0.9874 - val_loss: 0.4139 - val_accuracy: 0.9410\n",
      "Epoch 62/100\n",
      "1872/1872 [==============================] - 3s 2ms/step - loss: 0.0407 - accuracy: 0.9860 - val_loss: 0.3802 - val_accuracy: 0.9436\n",
      "Epoch 63/100\n",
      "1872/1872 [==============================] - 3s 2ms/step - loss: 0.0374 - accuracy: 0.9867 - val_loss: 0.3722 - val_accuracy: 0.9490\n",
      "Epoch 64/100\n",
      "1872/1872 [==============================] - 3s 2ms/step - loss: 0.0361 - accuracy: 0.9877 - val_loss: 0.3448 - val_accuracy: 0.9473\n",
      "Epoch 65/100\n",
      "1872/1872 [==============================] - 3s 2ms/step - loss: 0.0398 - accuracy: 0.9865 - val_loss: 0.3510 - val_accuracy: 0.9464\n",
      "Epoch 66/100\n",
      "1872/1872 [==============================] - 3s 2ms/step - loss: 0.0401 - accuracy: 0.9865 - val_loss: 0.3639 - val_accuracy: 0.9491\n",
      "Epoch 67/100\n",
      "1872/1872 [==============================] - 3s 2ms/step - loss: 0.0351 - accuracy: 0.9882 - val_loss: 0.3400 - val_accuracy: 0.9403\n",
      "Epoch 68/100\n",
      "1872/1872 [==============================] - 3s 2ms/step - loss: 0.0373 - accuracy: 0.9876 - val_loss: 0.3668 - val_accuracy: 0.9472\n",
      "Epoch 69/100\n",
      "1872/1872 [==============================] - 3s 2ms/step - loss: 0.0358 - accuracy: 0.9878 - val_loss: 0.3791 - val_accuracy: 0.9448\n",
      "Epoch 70/100\n",
      "1872/1872 [==============================] - 3s 2ms/step - loss: 0.0350 - accuracy: 0.9886 - val_loss: 0.3582 - val_accuracy: 0.9502\n",
      "Epoch 71/100\n",
      "1872/1872 [==============================] - 3s 2ms/step - loss: 0.0373 - accuracy: 0.9881 - val_loss: 0.3520 - val_accuracy: 0.9521\n",
      "Epoch 72/100\n",
      "1872/1872 [==============================] - 3s 2ms/step - loss: 0.0353 - accuracy: 0.9884 - val_loss: 0.3712 - val_accuracy: 0.9506\n",
      "Epoch 73/100\n",
      "1872/1872 [==============================] - 3s 2ms/step - loss: 0.0348 - accuracy: 0.9886 - val_loss: 0.3789 - val_accuracy: 0.9488\n",
      "Epoch 74/100\n",
      "1872/1872 [==============================] - 3s 2ms/step - loss: 0.0323 - accuracy: 0.9890 - val_loss: 0.3621 - val_accuracy: 0.9497\n",
      "Epoch 75/100\n",
      "1872/1872 [==============================] - 3s 2ms/step - loss: 0.0339 - accuracy: 0.9889 - val_loss: 0.3908 - val_accuracy: 0.9483\n",
      "Epoch 76/100\n",
      "1872/1872 [==============================] - 3s 2ms/step - loss: 0.0357 - accuracy: 0.9883 - val_loss: 0.3886 - val_accuracy: 0.9496\n",
      "Epoch 77/100\n",
      "1872/1872 [==============================] - 3s 2ms/step - loss: 0.0299 - accuracy: 0.9904 - val_loss: 0.3865 - val_accuracy: 0.9474\n",
      "Epoch 78/100\n",
      "1872/1872 [==============================] - 3s 2ms/step - loss: 0.0351 - accuracy: 0.9888 - val_loss: 0.3917 - val_accuracy: 0.9472\n",
      "Epoch 79/100\n",
      "1872/1872 [==============================] - 3s 2ms/step - loss: 0.0301 - accuracy: 0.9899 - val_loss: 0.4019 - val_accuracy: 0.9482\n",
      "Epoch 80/100\n",
      "1872/1872 [==============================] - 3s 2ms/step - loss: 0.0292 - accuracy: 0.9903 - val_loss: 0.4467 - val_accuracy: 0.9439\n",
      "Epoch 81/100\n",
      "1872/1872 [==============================] - 3s 2ms/step - loss: 0.0341 - accuracy: 0.9889 - val_loss: 0.3929 - val_accuracy: 0.9481\n",
      "Epoch 82/100\n",
      "1872/1872 [==============================] - 3s 2ms/step - loss: 0.0369 - accuracy: 0.9893 - val_loss: 0.3863 - val_accuracy: 0.9527\n",
      "Epoch 83/100\n",
      "1872/1872 [==============================] - 3s 2ms/step - loss: 0.0287 - accuracy: 0.9904 - val_loss: 0.4612 - val_accuracy: 0.9458\n",
      "Epoch 84/100\n",
      "1872/1872 [==============================] - 3s 2ms/step - loss: 0.0288 - accuracy: 0.9908 - val_loss: 0.4136 - val_accuracy: 0.9489\n",
      "Epoch 85/100\n",
      "1872/1872 [==============================] - 3s 2ms/step - loss: 0.0326 - accuracy: 0.9886 - val_loss: 0.3764 - val_accuracy: 0.9513\n",
      "Epoch 86/100\n",
      "1872/1872 [==============================] - 3s 2ms/step - loss: 0.0293 - accuracy: 0.9909 - val_loss: 0.3833 - val_accuracy: 0.9470\n",
      "Epoch 87/100\n",
      "1872/1872 [==============================] - 3s 2ms/step - loss: 0.0288 - accuracy: 0.9906 - val_loss: 0.4040 - val_accuracy: 0.9489\n",
      "Epoch 88/100\n",
      "1872/1872 [==============================] - 3s 2ms/step - loss: 0.0316 - accuracy: 0.9900 - val_loss: 0.3983 - val_accuracy: 0.9512\n",
      "Epoch 89/100\n",
      "1872/1872 [==============================] - 3s 2ms/step - loss: 0.0285 - accuracy: 0.9907 - val_loss: 0.3965 - val_accuracy: 0.9524\n",
      "Epoch 90/100\n",
      "1872/1872 [==============================] - 3s 2ms/step - loss: 0.0287 - accuracy: 0.9900 - val_loss: 0.4151 - val_accuracy: 0.9517\n",
      "Epoch 91/100\n",
      "1872/1872 [==============================] - 3s 2ms/step - loss: 0.0278 - accuracy: 0.9908 - val_loss: 0.4115 - val_accuracy: 0.9496\n",
      "Epoch 92/100\n",
      "1872/1872 [==============================] - 3s 2ms/step - loss: 0.0266 - accuracy: 0.9915 - val_loss: 0.4101 - val_accuracy: 0.9518\n",
      "Epoch 93/100\n",
      "1872/1872 [==============================] - 3s 1ms/step - loss: 0.0274 - accuracy: 0.9913 - val_loss: 0.5181 - val_accuracy: 0.9445\n",
      "Epoch 94/100\n",
      "1872/1872 [==============================] - 3s 1ms/step - loss: 0.0308 - accuracy: 0.9898 - val_loss: 0.4261 - val_accuracy: 0.9523\n",
      "Epoch 95/100\n",
      "1872/1872 [==============================] - 3s 2ms/step - loss: 0.0241 - accuracy: 0.9925 - val_loss: 0.4162 - val_accuracy: 0.9465\n",
      "Epoch 96/100\n",
      "1872/1872 [==============================] - 3s 1ms/step - loss: 0.0314 - accuracy: 0.9899 - val_loss: 0.4191 - val_accuracy: 0.9520\n",
      "Epoch 97/100\n",
      "1872/1872 [==============================] - 3s 1ms/step - loss: 0.0252 - accuracy: 0.9919 - val_loss: 0.4148 - val_accuracy: 0.9478\n",
      "Epoch 98/100\n",
      "1872/1872 [==============================] - 3s 2ms/step - loss: 0.0259 - accuracy: 0.9912 - val_loss: 0.3905 - val_accuracy: 0.9511\n",
      "Epoch 99/100\n",
      "1872/1872 [==============================] - 3s 2ms/step - loss: 0.0293 - accuracy: 0.9910 - val_loss: 0.4044 - val_accuracy: 0.9523\n",
      "Epoch 100/100\n",
      "1872/1872 [==============================] - 3s 2ms/step - loss: 0.0241 - accuracy: 0.9923 - val_loss: 0.4471 - val_accuracy: 0.9513\n"
     ]
    }
   ],
   "source": [
    "from keras.models import Sequential\n",
    "from keras.layers import Dense\n",
    "\n",
    "classifier = Sequential()\n",
    "\n",
    "classifier.add(Dense(units = 128, activation = 'relu'))\n",
    "\n",
    "classifier.add(Dense(units = 64, activation = 'relu'))\n",
    "\n",
    "classifier.add(Dense(units = 32, activation = 'relu'))\n",
    "\n",
    "classifier.add(Dense(units = 1, activation = 'sigmoid'))\n",
    "\n",
    "classifier.compile(optimizer = 'adam', loss = 'binary_crossentropy', metrics = ['accuracy'])\n",
    "\n",
    "classifierHistory = classifier.fit(X_train, y_train, epochs = 100, validation_data=(X_test, y_test))"
   ]
  },
  {
   "cell_type": "code",
   "execution_count": 20,
   "id": "d1a6bfe6",
   "metadata": {},
   "outputs": [
    {
     "name": "stdout",
     "output_type": "stream",
     "text": [
      "Epoch 1/100\n",
      "1872/1872 [==============================] - 4s 2ms/step - loss: 0.3694 - accuracy: 0.8445 - val_loss: 0.3223 - val_accuracy: 0.8638\n",
      "Epoch 2/100\n",
      "1872/1872 [==============================] - 3s 2ms/step - loss: 0.3149 - accuracy: 0.8720 - val_loss: 0.3070 - val_accuracy: 0.8748\n",
      "Epoch 3/100\n",
      "1872/1872 [==============================] - 3s 2ms/step - loss: 0.2992 - accuracy: 0.8800 - val_loss: 0.2999 - val_accuracy: 0.8771\n",
      "Epoch 4/100\n",
      "1872/1872 [==============================] - 3s 2ms/step - loss: 0.2880 - accuracy: 0.8839 - val_loss: 0.2925 - val_accuracy: 0.8808\n",
      "Epoch 5/100\n",
      "1872/1872 [==============================] - 3s 2ms/step - loss: 0.2783 - accuracy: 0.8883 - val_loss: 0.2866 - val_accuracy: 0.8875\n",
      "Epoch 6/100\n",
      "1872/1872 [==============================] - 3s 2ms/step - loss: 0.2710 - accuracy: 0.8921 - val_loss: 0.2773 - val_accuracy: 0.8926\n",
      "Epoch 7/100\n",
      "1872/1872 [==============================] - 3s 2ms/step - loss: 0.2643 - accuracy: 0.8958 - val_loss: 0.2737 - val_accuracy: 0.8934\n",
      "Epoch 8/100\n",
      "1872/1872 [==============================] - 3s 2ms/step - loss: 0.2583 - accuracy: 0.8970 - val_loss: 0.2672 - val_accuracy: 0.8934\n",
      "Epoch 9/100\n",
      "1872/1872 [==============================] - 3s 2ms/step - loss: 0.2534 - accuracy: 0.9002 - val_loss: 0.2608 - val_accuracy: 0.8988\n",
      "Epoch 10/100\n",
      "1872/1872 [==============================] - 3s 2ms/step - loss: 0.2476 - accuracy: 0.9037 - val_loss: 0.2604 - val_accuracy: 0.8993\n",
      "Epoch 11/100\n",
      "1872/1872 [==============================] - 3s 2ms/step - loss: 0.2435 - accuracy: 0.9046 - val_loss: 0.2601 - val_accuracy: 0.9000\n",
      "Epoch 12/100\n",
      "1872/1872 [==============================] - 3s 2ms/step - loss: 0.2392 - accuracy: 0.9056 - val_loss: 0.2556 - val_accuracy: 0.9004\n",
      "Epoch 13/100\n",
      "1872/1872 [==============================] - 3s 2ms/step - loss: 0.2347 - accuracy: 0.9086 - val_loss: 0.2559 - val_accuracy: 0.9016\n",
      "Epoch 14/100\n",
      "1872/1872 [==============================] - 3s 2ms/step - loss: 0.2318 - accuracy: 0.9104 - val_loss: 0.2475 - val_accuracy: 0.9061\n",
      "Epoch 15/100\n",
      "1872/1872 [==============================] - 3s 2ms/step - loss: 0.2293 - accuracy: 0.9112 - val_loss: 0.2471 - val_accuracy: 0.9062\n",
      "Epoch 16/100\n",
      "1872/1872 [==============================] - 3s 2ms/step - loss: 0.2243 - accuracy: 0.9128 - val_loss: 0.2474 - val_accuracy: 0.9042\n",
      "Epoch 17/100\n",
      "1872/1872 [==============================] - 3s 2ms/step - loss: 0.2227 - accuracy: 0.9134 - val_loss: 0.2411 - val_accuracy: 0.9107\n",
      "Epoch 18/100\n",
      "1872/1872 [==============================] - 3s 2ms/step - loss: 0.2190 - accuracy: 0.9157 - val_loss: 0.2439 - val_accuracy: 0.9088\n",
      "Epoch 19/100\n",
      "1872/1872 [==============================] - 3s 2ms/step - loss: 0.2179 - accuracy: 0.9158 - val_loss: 0.2351 - val_accuracy: 0.9133\n",
      "Epoch 20/100\n",
      "1872/1872 [==============================] - 3s 2ms/step - loss: 0.2149 - accuracy: 0.9180 - val_loss: 0.2346 - val_accuracy: 0.9113\n",
      "Epoch 21/100\n",
      "1872/1872 [==============================] - 3s 2ms/step - loss: 0.2128 - accuracy: 0.9176 - val_loss: 0.2394 - val_accuracy: 0.9102\n",
      "Epoch 22/100\n",
      "1872/1872 [==============================] - 3s 2ms/step - loss: 0.2093 - accuracy: 0.9201 - val_loss: 0.2308 - val_accuracy: 0.9140\n",
      "Epoch 23/100\n",
      "1872/1872 [==============================] - 3s 2ms/step - loss: 0.2069 - accuracy: 0.9218 - val_loss: 0.2312 - val_accuracy: 0.9153\n",
      "Epoch 24/100\n",
      "1872/1872 [==============================] - 3s 2ms/step - loss: 0.2063 - accuracy: 0.9221 - val_loss: 0.2301 - val_accuracy: 0.9147\n",
      "Epoch 25/100\n",
      "1872/1872 [==============================] - 3s 2ms/step - loss: 0.2033 - accuracy: 0.9231 - val_loss: 0.2308 - val_accuracy: 0.9153\n",
      "Epoch 26/100\n",
      "1872/1872 [==============================] - 3s 2ms/step - loss: 0.2030 - accuracy: 0.9224 - val_loss: 0.2238 - val_accuracy: 0.9194\n",
      "Epoch 27/100\n",
      "1872/1872 [==============================] - 3s 2ms/step - loss: 0.1982 - accuracy: 0.9251 - val_loss: 0.2258 - val_accuracy: 0.9177\n",
      "Epoch 28/100\n",
      "1872/1872 [==============================] - 3s 2ms/step - loss: 0.1984 - accuracy: 0.9248 - val_loss: 0.2217 - val_accuracy: 0.9202\n",
      "Epoch 29/100\n",
      "1872/1872 [==============================] - 3s 2ms/step - loss: 0.1967 - accuracy: 0.9257 - val_loss: 0.2188 - val_accuracy: 0.9211\n",
      "Epoch 30/100\n",
      "1872/1872 [==============================] - 3s 2ms/step - loss: 0.1946 - accuracy: 0.9263 - val_loss: 0.2219 - val_accuracy: 0.9215\n",
      "Epoch 31/100\n",
      "1872/1872 [==============================] - 3s 2ms/step - loss: 0.1938 - accuracy: 0.9268 - val_loss: 0.2230 - val_accuracy: 0.9199\n",
      "Epoch 32/100\n",
      "1872/1872 [==============================] - 3s 2ms/step - loss: 0.1916 - accuracy: 0.9285 - val_loss: 0.2220 - val_accuracy: 0.9177\n",
      "Epoch 33/100\n",
      "1872/1872 [==============================] - 3s 2ms/step - loss: 0.1906 - accuracy: 0.9280 - val_loss: 0.2153 - val_accuracy: 0.9248\n",
      "Epoch 34/100\n",
      "1872/1872 [==============================] - 3s 2ms/step - loss: 0.1889 - accuracy: 0.9290 - val_loss: 0.2112 - val_accuracy: 0.9243\n",
      "Epoch 35/100\n",
      "1872/1872 [==============================] - 3s 2ms/step - loss: 0.1871 - accuracy: 0.9294 - val_loss: 0.2162 - val_accuracy: 0.9212\n",
      "Epoch 36/100\n",
      "1872/1872 [==============================] - 3s 2ms/step - loss: 0.1873 - accuracy: 0.9298 - val_loss: 0.2154 - val_accuracy: 0.9214\n",
      "Epoch 37/100\n",
      "1872/1872 [==============================] - 3s 2ms/step - loss: 0.1854 - accuracy: 0.9306 - val_loss: 0.2149 - val_accuracy: 0.9235\n",
      "Epoch 38/100\n",
      "1872/1872 [==============================] - 3s 2ms/step - loss: 0.1848 - accuracy: 0.9310 - val_loss: 0.2113 - val_accuracy: 0.9241\n",
      "Epoch 39/100\n",
      "1872/1872 [==============================] - 3s 2ms/step - loss: 0.1820 - accuracy: 0.9325 - val_loss: 0.2105 - val_accuracy: 0.9255\n",
      "Epoch 40/100\n",
      "1872/1872 [==============================] - 3s 2ms/step - loss: 0.1809 - accuracy: 0.9320 - val_loss: 0.2123 - val_accuracy: 0.9253\n",
      "Epoch 41/100\n",
      "1872/1872 [==============================] - 3s 2ms/step - loss: 0.1818 - accuracy: 0.9323 - val_loss: 0.2074 - val_accuracy: 0.9282\n",
      "Epoch 42/100\n",
      "1872/1872 [==============================] - 3s 2ms/step - loss: 0.1789 - accuracy: 0.9336 - val_loss: 0.2086 - val_accuracy: 0.9254\n",
      "Epoch 43/100\n",
      "1872/1872 [==============================] - 3s 2ms/step - loss: 0.1760 - accuracy: 0.9347 - val_loss: 0.2099 - val_accuracy: 0.9254\n",
      "Epoch 44/100\n",
      "1872/1872 [==============================] - 3s 2ms/step - loss: 0.1757 - accuracy: 0.9355 - val_loss: 0.2124 - val_accuracy: 0.9255\n",
      "Epoch 45/100\n",
      "1872/1872 [==============================] - 3s 2ms/step - loss: 0.1750 - accuracy: 0.9348 - val_loss: 0.2137 - val_accuracy: 0.9238\n",
      "Epoch 46/100\n",
      "1872/1872 [==============================] - 3s 2ms/step - loss: 0.1739 - accuracy: 0.9364 - val_loss: 0.2073 - val_accuracy: 0.9270\n",
      "Epoch 47/100\n",
      "1872/1872 [==============================] - 3s 2ms/step - loss: 0.1718 - accuracy: 0.9364 - val_loss: 0.2132 - val_accuracy: 0.9266\n",
      "Epoch 48/100\n",
      "1872/1872 [==============================] - 3s 2ms/step - loss: 0.1741 - accuracy: 0.9358 - val_loss: 0.2072 - val_accuracy: 0.9283\n",
      "Epoch 49/100\n",
      "1872/1872 [==============================] - 3s 2ms/step - loss: 0.1729 - accuracy: 0.9366 - val_loss: 0.2102 - val_accuracy: 0.9276\n",
      "Epoch 50/100\n",
      "1872/1872 [==============================] - 3s 2ms/step - loss: 0.1711 - accuracy: 0.9371 - val_loss: 0.2058 - val_accuracy: 0.9274\n",
      "Epoch 51/100\n",
      "1872/1872 [==============================] - 3s 2ms/step - loss: 0.1699 - accuracy: 0.9379 - val_loss: 0.2087 - val_accuracy: 0.9283\n",
      "Epoch 52/100\n",
      "1872/1872 [==============================] - 3s 2ms/step - loss: 0.1695 - accuracy: 0.9379 - val_loss: 0.2034 - val_accuracy: 0.9290\n",
      "Epoch 53/100\n",
      "1872/1872 [==============================] - 3s 2ms/step - loss: 0.1679 - accuracy: 0.9379 - val_loss: 0.2076 - val_accuracy: 0.9280\n",
      "Epoch 54/100\n",
      "1872/1872 [==============================] - 3s 2ms/step - loss: 0.1685 - accuracy: 0.9377 - val_loss: 0.2069 - val_accuracy: 0.9283\n",
      "Epoch 55/100\n",
      "1872/1872 [==============================] - 3s 2ms/step - loss: 0.1664 - accuracy: 0.9393 - val_loss: 0.2082 - val_accuracy: 0.9280\n",
      "Epoch 56/100\n",
      "1872/1872 [==============================] - 3s 2ms/step - loss: 0.1673 - accuracy: 0.9391 - val_loss: 0.1996 - val_accuracy: 0.9298\n",
      "Epoch 57/100\n"
     ]
    },
    {
     "name": "stdout",
     "output_type": "stream",
     "text": [
      "1872/1872 [==============================] - 3s 2ms/step - loss: 0.1645 - accuracy: 0.9405 - val_loss: 0.1969 - val_accuracy: 0.9321\n",
      "Epoch 58/100\n",
      "1872/1872 [==============================] - 3s 2ms/step - loss: 0.1635 - accuracy: 0.9410 - val_loss: 0.2010 - val_accuracy: 0.9307\n",
      "Epoch 59/100\n",
      "1872/1872 [==============================] - 3s 2ms/step - loss: 0.1637 - accuracy: 0.9408 - val_loss: 0.2004 - val_accuracy: 0.9306\n",
      "Epoch 60/100\n",
      "1872/1872 [==============================] - 3s 2ms/step - loss: 0.1632 - accuracy: 0.9408 - val_loss: 0.2019 - val_accuracy: 0.9311\n",
      "Epoch 61/100\n",
      "1872/1872 [==============================] - 3s 2ms/step - loss: 0.1630 - accuracy: 0.9407 - val_loss: 0.1977 - val_accuracy: 0.9320\n",
      "Epoch 62/100\n",
      "1872/1872 [==============================] - 3s 2ms/step - loss: 0.1603 - accuracy: 0.9418 - val_loss: 0.1994 - val_accuracy: 0.9317\n",
      "Epoch 63/100\n",
      "1872/1872 [==============================] - 3s 2ms/step - loss: 0.1605 - accuracy: 0.9417 - val_loss: 0.1974 - val_accuracy: 0.9348\n",
      "Epoch 64/100\n",
      "1872/1872 [==============================] - 3s 2ms/step - loss: 0.1582 - accuracy: 0.9420 - val_loss: 0.1980 - val_accuracy: 0.9330\n",
      "Epoch 65/100\n",
      "1872/1872 [==============================] - 3s 2ms/step - loss: 0.1598 - accuracy: 0.9421 - val_loss: 0.1973 - val_accuracy: 0.9307\n",
      "Epoch 66/100\n",
      "1872/1872 [==============================] - 3s 2ms/step - loss: 0.1587 - accuracy: 0.9424 - val_loss: 0.2012 - val_accuracy: 0.9342\n",
      "Epoch 67/100\n",
      "1872/1872 [==============================] - 3s 2ms/step - loss: 0.1582 - accuracy: 0.9424 - val_loss: 0.2010 - val_accuracy: 0.9309\n",
      "Epoch 68/100\n",
      "1872/1872 [==============================] - 3s 2ms/step - loss: 0.1560 - accuracy: 0.9445 - val_loss: 0.1979 - val_accuracy: 0.9339\n",
      "Epoch 69/100\n",
      "1872/1872 [==============================] - 3s 2ms/step - loss: 0.1595 - accuracy: 0.9419 - val_loss: 0.1938 - val_accuracy: 0.9339\n",
      "Epoch 70/100\n",
      "1872/1872 [==============================] - 3s 2ms/step - loss: 0.1558 - accuracy: 0.9443 - val_loss: 0.1992 - val_accuracy: 0.9322\n",
      "Epoch 71/100\n",
      "1872/1872 [==============================] - 3s 2ms/step - loss: 0.1548 - accuracy: 0.9441 - val_loss: 0.1980 - val_accuracy: 0.9346\n",
      "Epoch 72/100\n",
      "1872/1872 [==============================] - 3s 2ms/step - loss: 0.1551 - accuracy: 0.9442 - val_loss: 0.1961 - val_accuracy: 0.9352\n",
      "Epoch 73/100\n",
      "1872/1872 [==============================] - 3s 2ms/step - loss: 0.1537 - accuracy: 0.9449 - val_loss: 0.1995 - val_accuracy: 0.9326\n",
      "Epoch 74/100\n",
      "1872/1872 [==============================] - 3s 2ms/step - loss: 0.1531 - accuracy: 0.9446 - val_loss: 0.1983 - val_accuracy: 0.9344\n",
      "Epoch 75/100\n",
      "1872/1872 [==============================] - 3s 2ms/step - loss: 0.1541 - accuracy: 0.9445 - val_loss: 0.2072 - val_accuracy: 0.9328\n",
      "Epoch 76/100\n",
      "1872/1872 [==============================] - 3s 2ms/step - loss: 0.1518 - accuracy: 0.9445 - val_loss: 0.1953 - val_accuracy: 0.9373\n",
      "Epoch 77/100\n",
      "1872/1872 [==============================] - 3s 2ms/step - loss: 0.1516 - accuracy: 0.9456 - val_loss: 0.1905 - val_accuracy: 0.9362\n",
      "Epoch 78/100\n",
      "1872/1872 [==============================] - 3s 2ms/step - loss: 0.1499 - accuracy: 0.9458 - val_loss: 0.2005 - val_accuracy: 0.9334\n",
      "Epoch 79/100\n",
      "1872/1872 [==============================] - 3s 2ms/step - loss: 0.1494 - accuracy: 0.9463 - val_loss: 0.2024 - val_accuracy: 0.9327\n",
      "Epoch 80/100\n",
      "1872/1872 [==============================] - 3s 2ms/step - loss: 0.1495 - accuracy: 0.9463 - val_loss: 0.1965 - val_accuracy: 0.9365\n",
      "Epoch 81/100\n",
      "1872/1872 [==============================] - 3s 2ms/step - loss: 0.1505 - accuracy: 0.9459 - val_loss: 0.1958 - val_accuracy: 0.9341\n",
      "Epoch 82/100\n",
      "1872/1872 [==============================] - 3s 2ms/step - loss: 0.1503 - accuracy: 0.9466 - val_loss: 0.1920 - val_accuracy: 0.9364\n",
      "Epoch 83/100\n",
      "1872/1872 [==============================] - 3s 2ms/step - loss: 0.1489 - accuracy: 0.9470 - val_loss: 0.1942 - val_accuracy: 0.9380\n",
      "Epoch 84/100\n",
      "1872/1872 [==============================] - 3s 2ms/step - loss: 0.1502 - accuracy: 0.9461 - val_loss: 0.1979 - val_accuracy: 0.9353\n",
      "Epoch 85/100\n",
      "1872/1872 [==============================] - 3s 2ms/step - loss: 0.1487 - accuracy: 0.9463 - val_loss: 0.1893 - val_accuracy: 0.9388\n",
      "Epoch 86/100\n",
      "1872/1872 [==============================] - 3s 2ms/step - loss: 0.1486 - accuracy: 0.9462 - val_loss: 0.1917 - val_accuracy: 0.9354\n",
      "Epoch 87/100\n",
      "1872/1872 [==============================] - 3s 2ms/step - loss: 0.1438 - accuracy: 0.9491 - val_loss: 0.1957 - val_accuracy: 0.9375\n",
      "Epoch 88/100\n",
      "1872/1872 [==============================] - 3s 2ms/step - loss: 0.1464 - accuracy: 0.9476 - val_loss: 0.1968 - val_accuracy: 0.9357\n",
      "Epoch 89/100\n",
      "1872/1872 [==============================] - 3s 2ms/step - loss: 0.1458 - accuracy: 0.9474 - val_loss: 0.1893 - val_accuracy: 0.9390\n",
      "Epoch 90/100\n",
      "1872/1872 [==============================] - 3s 2ms/step - loss: 0.1463 - accuracy: 0.9475 - val_loss: 0.1933 - val_accuracy: 0.9365\n",
      "Epoch 91/100\n",
      "1872/1872 [==============================] - 3s 2ms/step - loss: 0.1452 - accuracy: 0.9487 - val_loss: 0.1986 - val_accuracy: 0.9354\n",
      "Epoch 92/100\n",
      "1872/1872 [==============================] - 3s 2ms/step - loss: 0.1453 - accuracy: 0.9481 - val_loss: 0.1972 - val_accuracy: 0.9362\n",
      "Epoch 93/100\n",
      "1872/1872 [==============================] - 3s 2ms/step - loss: 0.1414 - accuracy: 0.9499 - val_loss: 0.1940 - val_accuracy: 0.9397\n",
      "Epoch 94/100\n",
      "1872/1872 [==============================] - 3s 2ms/step - loss: 0.1449 - accuracy: 0.9486 - val_loss: 0.1921 - val_accuracy: 0.9386\n",
      "Epoch 95/100\n",
      "1872/1872 [==============================] - 3s 2ms/step - loss: 0.1407 - accuracy: 0.9501 - val_loss: 0.1943 - val_accuracy: 0.9385\n",
      "Epoch 96/100\n",
      "1872/1872 [==============================] - 3s 2ms/step - loss: 0.1430 - accuracy: 0.9490 - val_loss: 0.1899 - val_accuracy: 0.9365\n",
      "Epoch 97/100\n",
      "1872/1872 [==============================] - 3s 2ms/step - loss: 0.1431 - accuracy: 0.9482 - val_loss: 0.1888 - val_accuracy: 0.9375\n",
      "Epoch 98/100\n",
      "1872/1872 [==============================] - 3s 2ms/step - loss: 0.1414 - accuracy: 0.9496 - val_loss: 0.1920 - val_accuracy: 0.9372\n",
      "Epoch 99/100\n",
      "1872/1872 [==============================] - 3s 2ms/step - loss: 0.1429 - accuracy: 0.9489 - val_loss: 0.1944 - val_accuracy: 0.9372\n",
      "Epoch 100/100\n",
      "1872/1872 [==============================] - 3s 2ms/step - loss: 0.1422 - accuracy: 0.9493 - val_loss: 0.2001 - val_accuracy: 0.9346\n"
     ]
    }
   ],
   "source": [
    "from keras.layers import Dropout\n",
    "\n",
    "classifier = Sequential()\n",
    "\n",
    "classifier.add(Dense(units = 128, activation = 'relu'))\n",
    "\n",
    "classifier.add(Dense(units = 64, activation = 'relu'))\n",
    "\n",
    "classifier.add(Dropout(0.5))\n",
    "\n",
    "classifier.add(Dense(units = 32, activation = 'relu'))\n",
    "\n",
    "classifier.add(Dense(units = 1, activation = 'sigmoid'))\n",
    "\n",
    "classifier.compile(optimizer = 'adam', loss = 'binary_crossentropy', metrics = ['accuracy'])\n",
    "\n",
    "classifierHistory = classifier.fit(X_train, y_train, epochs = 100, validation_data=(X_test, y_test)) "
   ]
  },
  {
   "cell_type": "code",
   "execution_count": 21,
   "id": "8d1b1690",
   "metadata": {},
   "outputs": [
    {
     "data": {
      "image/png": "[encoded data removed]",
      "text/plain": [
       "<Figure size 640x480 with 1 Axes>"
      ]
     },
     "metadata": {},
     "output_type": "display_data"
    }
   ],
   "source": [
    "import matplotlib.pyplot as plt\n",
    "\n",
    "plt.plot(classifierHistory.history['accuracy'])\n",
    "plt.plot(classifierHistory.history['val_accuracy'])\n",
    "\n",
    "plt.title('model accuracy')\n",
    "plt.ylabel('accuracy')\n",
    "plt.xlabel('epoch')\n",
    "plt.legend(['train', 'test'], loc='upper left')\n",
    "plt.show()"
   ]
  },
  {
   "cell_type": "code",
   "execution_count": 22,
   "id": "e02f4207",
   "metadata": {},
   "outputs": [
    {
     "name": "stdout",
     "output_type": "stream",
     "text": [
      "624/624 [==============================] - 1s 909us/step - loss: 0.2001 - accuracy: 0.9346\n",
      "Loss: 0.20007461309432983\n",
      "Accuracy: 0.9345723986625671\n"
     ]
    }
   ],
   "source": [
    "evaluation = classifier.evaluate(X_test, y_test)\n",
    "\n",
    "print(\"Loss:\", evaluation[0])\n",
    "print(\"Accuracy:\", evaluation[1])"
   ]
  },
  {
   "cell_type": "code",
   "execution_count": 23,
   "id": "2ab48613",
   "metadata": {},
   "outputs": [
    {
     "name": "stdout",
     "output_type": "stream",
     "text": [
      "624/624 [==============================] - 1s 839us/step\n",
      "[[ True]\n",
      " [ True]\n",
      " [ True]\n",
      " ...\n",
      " [ True]\n",
      " [False]\n",
      " [ True]]\n"
     ]
    }
   ],
   "source": [
    "y_pred = classifier.predict(X_test)\n",
    "\n",
    "y_pred_binary = (y_pred > 0.5)\n",
    "\n",
    "print(y_pred_binary)"
   ]
  },
  {
   "cell_type": "code",
   "execution_count": 24,
   "id": "551ce132",
   "metadata": {},
   "outputs": [
    {
     "name": "stdout",
     "output_type": "stream",
     "text": [
      "Accuracy: 93.46\n",
      "Precision: 89.4\n",
      "Recall: 98.75\n",
      "F1 Score: 93.84\n"
     ]
    }
   ],
   "source": [
    "from sklearn.metrics import accuracy_score, precision_score, recall_score, f1_score\n",
    "\n",
    "accuracy = accuracy_score(y_test, y_pred_binary)\n",
    "print(\"Accuracy:\", round(100*accuracy,2))\n",
    "\n",
    "\n",
    "precision = precision_score(y_test, y_pred_binary)\n",
    "print(\"Precision:\", round(100*precision,2))\n",
    "\n",
    "recall = recall_score(y_test, y_pred_binary)\n",
    "print(\"Recall:\", round(100*recall,2))\n",
    "\n",
    "f1 = f1_score(y_test, y_pred_binary)\n",
    "print(\"F1 Score:\", round(100*f1,2))"
   ]
  }
 ],
 "metadata": {
  "kernelspec": {
   "display_name": "Python 3 (ipykernel)",
   "language": "python",
   "name": "python3"
  },
  "language_info": {
   "codemirror_mode": {
    "name": "ipython",
    "version": 3
   },
   "file_extension": ".py",
   "mimetype": "text/x-python",
   "name": "python",
   "nbconvert_exporter": "python",
   "pygments_lexer": "ipython3",
   "version": "3.11.5"
  }
 },
 "nbformat": 4,
 "nbformat_minor": 5
}
