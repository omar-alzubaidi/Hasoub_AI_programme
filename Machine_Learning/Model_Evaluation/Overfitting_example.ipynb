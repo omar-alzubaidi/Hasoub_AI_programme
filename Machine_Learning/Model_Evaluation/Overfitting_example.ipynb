{
 "cells": [
  {
   "cell_type": "code",
   "execution_count": 1,
   "id": "6429ef22",
   "metadata": {},
   "outputs": [
    {
     "name": "stdout",
     "output_type": "stream",
     "text": [
      "(10000, 20) (10000,)\n"
     ]
    }
   ],
   "source": [
    "from sklearn.datasets import make_classification\n",
    "\n",
    "X, y = make_classification(n_samples=10000, n_features=20, n_informative=5, n_redundant=15, random_state=1)\n",
    "\n",
    "print(X.shape, y.shape)"
   ]
  },
  {
   "cell_type": "code",
   "execution_count": 2,
   "id": "959e3cf3",
   "metadata": {},
   "outputs": [
    {
     "name": "stdout",
     "output_type": "stream",
     "text": [
      "(7000, 20) (3000, 20) (7000,) (3000,)\n"
     ]
    }
   ],
   "source": [
    "from sklearn.model_selection import train_test_split\n",
    "\n",
    "X_train, X_test, y_train, y_test = train_test_split(X, y, test_size=0.3)\n",
    "print(X_train.shape, X_test.shape, y_train.shape, y_test.shape)"
   ]
  },
  {
   "cell_type": "code",
   "execution_count": 3,
   "id": "12c80c8b",
   "metadata": {},
   "outputs": [],
   "source": [
    "values = [i for i in range(1, 21)]"
   ]
  },
  {
   "cell_type": "code",
   "execution_count": 4,
   "id": "3f233e56",
   "metadata": {},
   "outputs": [],
   "source": [
    "train_scores, test_scores = list(), list()"
   ]
  },
  {
   "cell_type": "code",
   "execution_count": 5,
   "id": "2ea50f9a",
   "metadata": {},
   "outputs": [
    {
     "name": "stdout",
     "output_type": "stream",
     "text": [
      ">1, train: 0.772, test: 0.750\n",
      ">2, train: 0.812, test: 0.807\n",
      ">3, train: 0.886, test: 0.873\n",
      ">4, train: 0.910, test: 0.889\n",
      ">5, train: 0.915, test: 0.893\n",
      ">6, train: 0.921, test: 0.904\n",
      ">7, train: 0.937, test: 0.917\n",
      ">8, train: 0.950, test: 0.924\n",
      ">9, train: 0.960, test: 0.919\n",
      ">10, train: 0.967, test: 0.923\n",
      ">11, train: 0.976, test: 0.925\n",
      ">12, train: 0.983, test: 0.921\n",
      ">13, train: 0.990, test: 0.926\n",
      ">14, train: 0.993, test: 0.918\n",
      ">15, train: 0.995, test: 0.917\n",
      ">16, train: 0.996, test: 0.921\n",
      ">17, train: 0.998, test: 0.922\n",
      ">18, train: 0.999, test: 0.915\n",
      ">19, train: 0.999, test: 0.919\n",
      ">20, train: 1.000, test: 0.917\n"
     ]
    }
   ],
   "source": [
    "from sklearn.metrics import accuracy_score\n",
    "from sklearn.tree import DecisionTreeClassifier\n",
    "\n",
    "for i in values:\n",
    "    model = DecisionTreeClassifier(max_depth=i)\n",
    "\n",
    "    model.fit(X_train, y_train)\n",
    "\n",
    "    train_yhat = model.predict(X_train)\n",
    "    train_acc = accuracy_score(y_train, train_yhat)\n",
    "    train_scores.append(train_acc)\n",
    "\n",
    "    test_yhat = model.predict(X_test)\n",
    "    test_acc = accuracy_score(y_test, test_yhat)\n",
    "    test_scores.append(test_acc)\n",
    "\n",
    "    print('>%d, train: %.3f, test: %.3f' % (i, train_acc, test_acc))"
   ]
  }
 ],
 "metadata": {
  "kernelspec": {
   "display_name": "Python 3 (ipykernel)",
   "language": "python",
   "name": "python3"
  },
  "language_info": {
   "codemirror_mode": {
    "name": "ipython",
    "version": 3
   },
   "file_extension": ".py",
   "mimetype": "text/x-python",
   "name": "python",
   "nbconvert_exporter": "python",
   "pygments_lexer": "ipython3",
   "version": "3.10.9"
  }
 },
 "nbformat": 4,
 "nbformat_minor": 5
}
