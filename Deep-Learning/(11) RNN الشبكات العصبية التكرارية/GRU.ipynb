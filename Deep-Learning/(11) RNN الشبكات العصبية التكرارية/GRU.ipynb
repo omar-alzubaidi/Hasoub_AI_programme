{
 "cells": [
  {
   "cell_type": "code",
   "execution_count": 1,
   "id": "67738dab",
   "metadata": {},
   "outputs": [],
   "source": [
    "sentences = [\"I loved the movie, it was fantastic!\",\n",
    "             \"The food was terrible, I wouldn't recommend it.\",\n",
    "             \"The book was amazing, couldn't put it down.\",\n",
    "             \"It was terrible film\"]\n",
    "\n",
    "import numpy as np\n",
    "\n",
    "labels = np.array([1, 0, 1, 0])  # 1: Positive, 0: Negative"
   ]
  },
  {
   "cell_type": "code",
   "execution_count": 2,
   "id": "93f22d9e",
   "metadata": {},
   "outputs": [
    {
     "data": {
      "text/plain": [
       "[[4, 6, 3, 7, 1, 2, 8],\n",
       " [3, 9, 2, 5, 4, 10, 11, 1],\n",
       " [3, 12, 2, 13, 14, 15, 1, 16],\n",
       " [1, 2, 5, 17]]"
      ]
     },
     "execution_count": 2,
     "metadata": {},
     "output_type": "execute_result"
    }
   ],
   "source": [
    "from keras.preprocessing.text import Tokenizer\n",
    "\n",
    "tokenizer = Tokenizer()\n",
    "\n",
    "tokenizer.fit_on_texts(sentences)\n",
    "\n",
    "sequences = tokenizer.texts_to_sequences(sentences)\n",
    "sequences"
   ]
  },
  {
   "cell_type": "code",
   "execution_count": 3,
   "id": "89a9abac",
   "metadata": {},
   "outputs": [
    {
     "data": {
      "text/plain": [
       "{'it': 1,\n",
       " 'was': 2,\n",
       " 'the': 3,\n",
       " 'i': 4,\n",
       " 'terrible': 5,\n",
       " 'loved': 6,\n",
       " 'movie': 7,\n",
       " 'fantastic': 8,\n",
       " 'food': 9,\n",
       " \"wouldn't\": 10,\n",
       " 'recommend': 11,\n",
       " 'book': 12,\n",
       " 'amazing': 13,\n",
       " \"couldn't\": 14,\n",
       " 'put': 15,\n",
       " 'down': 16,\n",
       " 'film': 17}"
      ]
     },
     "execution_count": 3,
     "metadata": {},
     "output_type": "execute_result"
    }
   ],
   "source": [
    "word_index = tokenizer.word_index\n",
    "word_index"
   ]
  },
  {
   "cell_type": "code",
   "execution_count": 4,
   "id": "caa8f8e4",
   "metadata": {},
   "outputs": [
    {
     "name": "stdout",
     "output_type": "stream",
     "text": [
      "[[ 0  4  6  3  7  1  2  8]\n",
      " [ 3  9  2  5  4 10 11  1]\n",
      " [ 3 12  2 13 14 15  1 16]\n",
      " [ 0  0  0  0  1  2  5 17]]\n"
     ]
    }
   ],
   "source": [
    "from tensorflow.keras.preprocessing.sequence import pad_sequences\n",
    "\n",
    "max_length = max([len(seq) for seq in sequences])\n",
    "\n",
    "padded_sequences = pad_sequences(sequences, maxlen=max_length)\n",
    "\n",
    "print(padded_sequences)"
   ]
  },
  {
   "cell_type": "code",
   "execution_count": 5,
   "id": "72082c17",
   "metadata": {},
   "outputs": [
    {
     "data": {
      "text/plain": [
       "8"
      ]
     },
     "execution_count": 5,
     "metadata": {},
     "output_type": "execute_result"
    }
   ],
   "source": [
    "max_length"
   ]
  },
  {
   "cell_type": "code",
   "execution_count": 6,
   "id": "2e8f8d7a",
   "metadata": {},
   "outputs": [],
   "source": [
    "from keras.models import Sequential\n",
    "from keras.layers import Input, Embedding, GRU, Dense\n",
    "\n",
    "vocab_size = len(tokenizer.word_index) +1\n",
    "\n",
    "embedding_dim = 32\n",
    "\n",
    "model = Sequential()\n",
    "\n",
    "model.add(Input(shape=(max_length,)))\n",
    "\n",
    "model.add(Embedding(input_dim=vocab_size, output_dim=embedding_dim, input_length=max_length))\n",
    "\n",
    "model.add(GRU(32))\n",
    "model.add(Dense(1, activation='sigmoid'))"
   ]
  },
  {
   "cell_type": "code",
   "execution_count": 7,
   "id": "dbdd743a",
   "metadata": {},
   "outputs": [],
   "source": [
    "model.compile(loss='binary_crossentropy', optimizer='adam', metrics=['accuracy'])"
   ]
  },
  {
   "cell_type": "code",
   "execution_count": 8,
   "id": "8e7e31d9",
   "metadata": {},
   "outputs": [
    {
     "name": "stdout",
     "output_type": "stream",
     "text": [
      "Epoch 1/10\n",
      "4/4 [==============================] - 1s 4ms/step - loss: 0.6912 - accuracy: 0.5000\n",
      "Epoch 2/10\n",
      "4/4 [==============================] - 0s 3ms/step - loss: 0.6840 - accuracy: 0.7500\n",
      "Epoch 3/10\n",
      "4/4 [==============================] - 0s 3ms/step - loss: 0.6763 - accuracy: 0.7500\n",
      "Epoch 4/10\n",
      "4/4 [==============================] - 0s 3ms/step - loss: 0.6694 - accuracy: 1.0000\n",
      "Epoch 5/10\n",
      "4/4 [==============================] - 0s 3ms/step - loss: 0.6625 - accuracy: 1.0000\n",
      "Epoch 6/10\n",
      "4/4 [==============================] - 0s 3ms/step - loss: 0.6523 - accuracy: 1.0000\n",
      "Epoch 7/10\n",
      "4/4 [==============================] - 0s 3ms/step - loss: 0.6416 - accuracy: 1.0000\n",
      "Epoch 8/10\n",
      "4/4 [==============================] - 0s 3ms/step - loss: 0.6285 - accuracy: 1.0000\n",
      "Epoch 9/10\n",
      "4/4 [==============================] - 0s 3ms/step - loss: 0.6131 - accuracy: 1.0000\n",
      "Epoch 10/10\n",
      "4/4 [==============================] - 0s 3ms/step - loss: 0.5929 - accuracy: 1.0000\n"
     ]
    },
    {
     "data": {
      "text/plain": [
       "<keras.src.callbacks.History at 0x165a2017850>"
      ]
     },
     "execution_count": 8,
     "metadata": {},
     "output_type": "execute_result"
    }
   ],
   "source": [
    "model.fit(padded_sequences, labels, epochs=10, batch_size=1)"
   ]
  },
  {
   "cell_type": "code",
   "execution_count": 9,
   "id": "5e7647ba",
   "metadata": {},
   "outputs": [
    {
     "name": "stdout",
     "output_type": "stream",
     "text": [
      "1/1 [==============================] - 0s 397ms/step - loss: 0.5765 - accuracy: 1.0000\n",
      "Accuracy: 100.00%\n"
     ]
    }
   ],
   "source": [
    "loss, accuracy = model.evaluate(padded_sequences, labels)\n",
    "print(f\"Accuracy: {accuracy*100:.2f}%\")"
   ]
  },
  {
   "cell_type": "code",
   "execution_count": 10,
   "id": "d41d0c38",
   "metadata": {},
   "outputs": [
    {
     "name": "stdout",
     "output_type": "stream",
     "text": [
      "1/1 [==============================] - 0s 345ms/step\n",
      "Sentence: The food was fantastic! - Sentiment: Positive  \n",
      "Sentence: The movie was terrible - Sentiment: Negative  \n"
     ]
    }
   ],
   "source": [
    "new_sentences = [\"The food was fantastic!\", \n",
    "                 \"The movie was terrible\"]\n",
    "\n",
    "new_sequences = tokenizer.texts_to_sequences(new_sentences)\n",
    "\n",
    "new_padded_sequences = pad_sequences(new_sequences, maxlen=max_length)\n",
    "\n",
    "predictions = model.predict(new_padded_sequences)\n",
    "\n",
    "for sentence, prediction in zip(new_sentences, predictions):\n",
    "    sentiment = \"Positive\" if prediction > 0.5 else \"Negative\"\n",
    "    print(f\"Sentence: {sentence} - Sentiment: {sentiment}  \")"
   ]
  }
 ],
 "metadata": {
  "kernelspec": {
   "display_name": "Python 3 (ipykernel)",
   "language": "python",
   "name": "python3"
  },
  "language_info": {
   "codemirror_mode": {
    "name": "ipython",
    "version": 3
   },
   "file_extension": ".py",
   "mimetype": "text/x-python",
   "name": "python",
   "nbconvert_exporter": "python",
   "pygments_lexer": "ipython3",
   "version": "3.11.5"
  }
 },
 "nbformat": 4,
 "nbformat_minor": 5
}
